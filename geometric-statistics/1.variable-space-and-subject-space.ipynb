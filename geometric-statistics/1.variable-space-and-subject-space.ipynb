{
 "cells": [
  {
   "cell_type": "code",
   "execution_count": 2,
   "id": "121d9b9b",
   "metadata": {},
   "outputs": [],
   "source": [
    "library(dplyr)\n",
    "library(ggplot2)"
   ]
  },
  {
   "cell_type": "markdown",
   "id": "976383dc",
   "metadata": {},
   "source": [
    "# Variable Space and Subject Space\n",
    "\n",
    "## 1.Variable Space"
   ]
  },
  {
   "cell_type": "code",
   "execution_count": 56,
   "id": "ddd41ae9",
   "metadata": {},
   "outputs": [
    {
     "name": "stdout",
     "output_type": "stream",
     "text": [
      "Rows: 10\n",
      "Columns: 2\n",
      "$ X \u001b[3m\u001b[90m<dbl>\u001b[39m\u001b[23m 1, 1, 3, 3, 4, 4, 5, 6, 6, 7\n",
      "$ Y \u001b[3m\u001b[90m<dbl>\u001b[39m\u001b[23m 4, 7, 9, 12, 11, 12, 17, 13, 18, 17\n"
     ]
    }
   ],
   "source": [
    "X <- c(1,1,3,3,4,4,5,6,6,7)\n",
    "Y <- c(4,7,9,12,11,12,17,13,18,17)\n",
    "df <- data.frame(X,Y)\n",
    "glimpse(df)"
   ]
  },
  {
   "cell_type": "code",
   "execution_count": 57,
   "id": "3a71f792",
   "metadata": {},
   "outputs": [
    {
     "data": {
      "text/html": [
       "<table class=\"dataframe\">\n",
       "<caption>A data.frame: 10 × 2</caption>\n",
       "<thead>\n",
       "\t<tr><th scope=col>X</th><th scope=col>Y</th></tr>\n",
       "\t<tr><th scope=col>&lt;dbl&gt;</th><th scope=col>&lt;dbl&gt;</th></tr>\n",
       "</thead>\n",
       "<tbody>\n",
       "\t<tr><td>1</td><td> 4</td></tr>\n",
       "\t<tr><td>1</td><td> 7</td></tr>\n",
       "\t<tr><td>3</td><td> 9</td></tr>\n",
       "\t<tr><td>3</td><td>12</td></tr>\n",
       "\t<tr><td>4</td><td>11</td></tr>\n",
       "\t<tr><td>4</td><td>12</td></tr>\n",
       "\t<tr><td>5</td><td>17</td></tr>\n",
       "\t<tr><td>6</td><td>13</td></tr>\n",
       "\t<tr><td>6</td><td>18</td></tr>\n",
       "\t<tr><td>7</td><td>17</td></tr>\n",
       "</tbody>\n",
       "</table>\n"
      ],
      "text/latex": [
       "A data.frame: 10 × 2\n",
       "\\begin{tabular}{ll}\n",
       " X & Y\\\\\n",
       " <dbl> & <dbl>\\\\\n",
       "\\hline\n",
       "\t 1 &  4\\\\\n",
       "\t 1 &  7\\\\\n",
       "\t 3 &  9\\\\\n",
       "\t 3 & 12\\\\\n",
       "\t 4 & 11\\\\\n",
       "\t 4 & 12\\\\\n",
       "\t 5 & 17\\\\\n",
       "\t 6 & 13\\\\\n",
       "\t 6 & 18\\\\\n",
       "\t 7 & 17\\\\\n",
       "\\end{tabular}\n"
      ],
      "text/markdown": [
       "\n",
       "A data.frame: 10 × 2\n",
       "\n",
       "| X &lt;dbl&gt; | Y &lt;dbl&gt; |\n",
       "|---|---|\n",
       "| 1 |  4 |\n",
       "| 1 |  7 |\n",
       "| 3 |  9 |\n",
       "| 3 | 12 |\n",
       "| 4 | 11 |\n",
       "| 4 | 12 |\n",
       "| 5 | 17 |\n",
       "| 6 | 13 |\n",
       "| 6 | 18 |\n",
       "| 7 | 17 |\n",
       "\n"
      ],
      "text/plain": [
       "   X Y \n",
       "1  1  4\n",
       "2  1  7\n",
       "3  3  9\n",
       "4  3 12\n",
       "5  4 11\n",
       "6  4 12\n",
       "7  5 17\n",
       "8  6 13\n",
       "9  6 18\n",
       "10 7 17"
      ]
     },
     "metadata": {},
     "output_type": "display_data"
    }
   ],
   "source": [
    "df"
   ]
  },
  {
   "cell_type": "code",
   "execution_count": 36,
   "id": "79f4e183",
   "metadata": {},
   "outputs": [
    {
     "data": {
      "text/plain": [
       "       X              Y       \n",
       " Min.   :1.00   Min.   : 4.0  \n",
       " 1st Qu.:3.00   1st Qu.: 9.5  \n",
       " Median :4.00   Median :12.0  \n",
       " Mean   :4.00   Mean   :12.0  \n",
       " 3rd Qu.:5.75   3rd Qu.:16.0  \n",
       " Max.   :7.00   Max.   :18.0  "
      ]
     },
     "metadata": {},
     "output_type": "display_data"
    }
   ],
   "source": [
    "summary(df)"
   ]
  },
  {
   "cell_type": "code",
   "execution_count": 35,
   "id": "cd59c0fd",
   "metadata": {},
   "outputs": [
    {
     "name": "stderr",
     "output_type": "stream",
     "text": [
      "`geom_smooth()` using formula 'y ~ x'\n",
      "\n"
     ]
    },
    {
     "data": {
      "image/png": "[encoded data removed]",
      "text/plain": [
       "plot without title"
      ]
     },
     "metadata": {
      "image/png": {
       "height": 420,
       "width": 420
      }
     },
     "output_type": "display_data"
    }
   ],
   "source": [
    "ggplot(data=df,mapping=aes(x=X,y=Y)) +\n",
    "    geom_point(size=4) +\n",
    "    geom_vline(aes(xintercept=mean(X))) +\n",
    "    geom_hline(aes(yintercept=mean(Y))) +\n",
    "    geom_smooth(method=lm) +\n",
    "    coord_cartesian(xlim=c(0,15),ylim=c(0,20)) +\n",
    "    labs(title='Ten bivaraite observations and their scatterplot')"
   ]
  },
  {
   "cell_type": "markdown",
   "id": "36ad797f",
   "metadata": {},
   "source": [
    "### Observations from scatterplot \n",
    "\n",
    "* Points do not cluster around the origin rather around (4,12) => the means are nonzero.\n",
    "* Points are more spread around the Y axis than along the X axis => Var(Y) > Var(X)\n",
    "* High values on one variable correspond closelywith high scores on the other variable => substantial association between the variables\n",
    "* Connection between the variables does not bend and can be roughly represented by a straight line"
   ]
  },
  {
   "cell_type": "code",
   "execution_count": 45,
   "id": "f8c115b5",
   "metadata": {},
   "outputs": [
    {
     "name": "stdout",
     "output_type": "stream",
     "text": [
      "Rows: 10\n",
      "Columns: 2\n",
      "$ x \u001b[3m\u001b[90m<dbl>\u001b[39m\u001b[23m -3, -3, -1, -1, 0, 0, 1, 2, 2, 3\n",
      "$ y \u001b[3m\u001b[90m<dbl>\u001b[39m\u001b[23m -8, -5, -3, 0, -1, 0, 5, 1, 6, 5\n"
     ]
    }
   ],
   "source": [
    "centering <- df %>% transmute(\n",
    "    x=X-mean(X),\n",
    "    y=Y-mean(Y)\n",
    ")\n",
    "glimpse(centering)"
   ]
  },
  {
   "cell_type": "code",
   "execution_count": 52,
   "id": "9c3dab3e",
   "metadata": {},
   "outputs": [
    {
     "data": {
      "text/html": [
       "<table class=\"dataframe\">\n",
       "<caption>A data.frame: 10 × 2</caption>\n",
       "<thead>\n",
       "\t<tr><th scope=col>x</th><th scope=col>y</th></tr>\n",
       "\t<tr><th scope=col>&lt;dbl&gt;</th><th scope=col>&lt;dbl&gt;</th></tr>\n",
       "</thead>\n",
       "<tbody>\n",
       "\t<tr><td>-3</td><td>-8</td></tr>\n",
       "\t<tr><td>-3</td><td>-5</td></tr>\n",
       "\t<tr><td>-1</td><td>-3</td></tr>\n",
       "\t<tr><td>-1</td><td> 0</td></tr>\n",
       "\t<tr><td> 0</td><td>-1</td></tr>\n",
       "\t<tr><td> 0</td><td> 0</td></tr>\n",
       "\t<tr><td> 1</td><td> 5</td></tr>\n",
       "\t<tr><td> 2</td><td> 1</td></tr>\n",
       "\t<tr><td> 2</td><td> 6</td></tr>\n",
       "\t<tr><td> 3</td><td> 5</td></tr>\n",
       "</tbody>\n",
       "</table>\n"
      ],
      "text/latex": [
       "A data.frame: 10 × 2\n",
       "\\begin{tabular}{ll}\n",
       " x & y\\\\\n",
       " <dbl> & <dbl>\\\\\n",
       "\\hline\n",
       "\t -3 & -8\\\\\n",
       "\t -3 & -5\\\\\n",
       "\t -1 & -3\\\\\n",
       "\t -1 &  0\\\\\n",
       "\t  0 & -1\\\\\n",
       "\t  0 &  0\\\\\n",
       "\t  1 &  5\\\\\n",
       "\t  2 &  1\\\\\n",
       "\t  2 &  6\\\\\n",
       "\t  3 &  5\\\\\n",
       "\\end{tabular}\n"
      ],
      "text/markdown": [
       "\n",
       "A data.frame: 10 × 2\n",
       "\n",
       "| x &lt;dbl&gt; | y &lt;dbl&gt; |\n",
       "|---|---|\n",
       "| -3 | -8 |\n",
       "| -3 | -5 |\n",
       "| -1 | -3 |\n",
       "| -1 |  0 |\n",
       "|  0 | -1 |\n",
       "|  0 |  0 |\n",
       "|  1 |  5 |\n",
       "|  2 |  1 |\n",
       "|  2 |  6 |\n",
       "|  3 |  5 |\n",
       "\n"
      ],
      "text/plain": [
       "   x  y \n",
       "1  -3 -8\n",
       "2  -3 -5\n",
       "3  -1 -3\n",
       "4  -1  0\n",
       "5   0 -1\n",
       "6   0  0\n",
       "7   1  5\n",
       "8   2  1\n",
       "9   2  6\n",
       "10  3  5"
      ]
     },
     "metadata": {},
     "output_type": "display_data"
    }
   ],
   "source": [
    "centering"
   ]
  },
  {
   "cell_type": "code",
   "execution_count": 49,
   "id": "db5c6421",
   "metadata": {},
   "outputs": [
    {
     "name": "stderr",
     "output_type": "stream",
     "text": [
      "`geom_smooth()` using formula 'y ~ x'\n",
      "\n"
     ]
    },
    {
     "data": {
      "image/png": "[encoded data removed]",
      "text/plain": [
       "plot without title"
      ]
     },
     "metadata": {
      "image/png": {
       "height": 420,
       "width": 420
      }
     },
     "output_type": "display_data"
    }
   ],
   "source": [
    "ggplot(data=centering,mapping=aes(x,y)) +\n",
    "    geom_point(size=4) +\n",
    "    geom_smooth(method=lm) +\n",
    "    geom_vline(aes(xintercept=mean(x))) +\n",
    "    geom_hline(aes(yintercept=mean(y))) +\n",
    "    coord_cartesian(xlim=c(-10,10),ylim=c(-10,10)) +\n",
    "    labs(title='Centered data from previous figure')"
   ]
  },
  {
   "cell_type": "markdown",
   "id": "6c961c8b",
   "metadata": {},
   "source": [
    "### The problem with scatterplots\n",
    "\n",
    "* It clearly shows a pattern of individual observations, but this very characteristic of the scatterplot that makes it useful also limits it\n",
    "* The scatterplot places emphasis on the observations not on the variables as general entities\n",
    "* **When one wants to talk about variables, another type of graph is used and gives a clearer picture.**"
   ]
  },
  {
   "cell_type": "markdown",
   "id": "4c688380",
   "metadata": {},
   "source": [
    "## 2.Subject Space\n",
    "\n",
    "Subject space revolves around the idea of ploting our variables (in this case X and Y) as vectors in the n-dimensional space defined by our observations as axis (in this case we have 10 subjects so 10 dimensional space).\n",
    "\n",
    "\n",
    "This seems weird at first, how the hell am i supposed to imagine or graph a 10-dim space? well the answer is that **you don't have to**.\n",
    "\n",
    "\n",
    "You can just imagine an origin point O(0,0,...0) and 2 points X and Y which are -surprise- vectors.\n",
    "\n",
    "\n",
    "If the vectors are linearly independent, they would form a plane or 2d space in 10d space, and that's where the fun begins.\n",
    "\n",
    "\n",
    "The correlation between the variables X and Y is just the cosine of the angle theta between the two vectors, and the length of vectors reflects the variability in our data"
   ]
  },
  {
   "cell_type": "code",
   "execution_count": 76,
   "id": "5b34f999",
   "metadata": {},
   "outputs": [],
   "source": [
    "# Calculating the angle between the 2 vectors X and Y in subject space"
   ]
  },
  {
   "cell_type": "code",
   "execution_count": 77,
   "id": "88b99f6b",
   "metadata": {},
   "outputs": [
    {
     "name": "stdout",
     "output_type": "stream",
     "text": [
      "0.9039935"
     ]
    }
   ],
   "source": [
    "r <- cor(df$X,df$Y)\n",
    "cat(r)"
   ]
  },
  {
   "cell_type": "code",
   "execution_count": 78,
   "id": "bc787c7b",
   "metadata": {},
   "outputs": [
    {
     "name": "stdout",
     "output_type": "stream",
     "text": [
      "0.4417766 25.31193"
     ]
    }
   ],
   "source": [
    "rad = acos(r)\n",
    "deg = 180*rad/pi\n",
    "cat(rad,deg)"
   ]
  },
  {
   "cell_type": "markdown",
   "id": "28da7793",
   "metadata": {},
   "source": [
    "Pearson's correlation coefficient is 0.904 which means our 2 variables have a strong association. Does the geometric approach says the same thing?\n",
    "\n",
    "\n",
    "Well using a simple calculation we can see that the angle theta between the 2 vectors is roughly 26 degrees, and that's sufficient evidence."
   ]
  },
  {
   "cell_type": "code",
   "execution_count": null,
   "id": "8934bab9",
   "metadata": {},
   "outputs": [],
   "source": []
  }
 ],
 "metadata": {
  "kernelspec": {
   "display_name": "R",
   "language": "R",
   "name": "ir"
  },
  "language_info": {
   "codemirror_mode": "r",
   "file_extension": ".r",
   "mimetype": "text/x-r-source",
   "name": "R",
   "pygments_lexer": "r",
   "version": "4.1.1"
  }
 },
 "nbformat": 4,
 "nbformat_minor": 5
}
