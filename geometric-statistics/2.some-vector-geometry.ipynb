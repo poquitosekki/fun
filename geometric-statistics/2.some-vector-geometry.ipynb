{
 "cells": [
  {
   "cell_type": "code",
   "execution_count": 1,
   "id": "1bb4b75e",
   "metadata": {},
   "outputs": [
    {
     "data": {
      "text/html": [
       "4.66666666666667"
      ],
      "text/latex": [
       "4.66666666666667"
      ],
      "text/markdown": [
       "4.66666666666667"
      ],
      "text/plain": [
       "[1] 4.666667"
      ]
     },
     "metadata": {},
     "output_type": "display_data"
    }
   ],
   "source": [
    "14/3"
   ]
  },
  {
   "cell_type": "code",
   "execution_count": 3,
   "id": "fab1b275",
   "metadata": {},
   "outputs": [
    {
     "data": {
      "text/html": [
       "3.21455025366432"
      ],
      "text/latex": [
       "3.21455025366432"
      ],
      "text/markdown": [
       "3.21455025366432"
      ],
      "text/plain": [
       "[1] 3.21455"
      ]
     },
     "metadata": {},
     "output_type": "display_data"
    }
   ],
   "source": [
    "x <- c(6,1,7)\n",
    "sd(x)"
   ]
  },
  {
   "cell_type": "code",
   "execution_count": 4,
   "id": "8be6490a",
   "metadata": {},
   "outputs": [
    {
     "data": {
      "text/html": [
       "4.66666666666667"
      ],
      "text/latex": [
       "4.66666666666667"
      ],
      "text/markdown": [
       "4.66666666666667"
      ],
      "text/plain": [
       "[1] 4.666667"
      ]
     },
     "metadata": {},
     "output_type": "display_data"
    }
   ],
   "source": [
    "mean(x)"
   ]
  },
  {
   "cell_type": "code",
   "execution_count": 5,
   "id": "3ecdfefe",
   "metadata": {},
   "outputs": [
    {
     "data": {
      "text/html": [
       "10.3333333333333"
      ],
      "text/latex": [
       "10.3333333333333"
      ],
      "text/markdown": [
       "10.3333333333333"
      ],
      "text/plain": [
       "[1] 10.33333"
      ]
     },
     "metadata": {},
     "output_type": "display_data"
    }
   ],
   "source": [
    "var(x)"
   ]
  },
  {
   "cell_type": "code",
   "execution_count": 7,
   "id": "129965e5",
   "metadata": {},
   "outputs": [
    {
     "data": {
      "text/html": [
       "9.2736184954957"
      ],
      "text/latex": [
       "9.2736184954957"
      ],
      "text/markdown": [
       "9.2736184954957"
      ],
      "text/plain": [
       "[1] 9.273618"
      ]
     },
     "metadata": {},
     "output_type": "display_data"
    }
   ],
   "source": [
    "sqrt(86)"
   ]
  },
  {
   "cell_type": "code",
   "execution_count": 25,
   "id": "9c36705d",
   "metadata": {},
   "outputs": [
    {
     "data": {
      "text/html": [
       "<table class=\"dataframe\">\n",
       "<caption>A data.frame: 3 × 1</caption>\n",
       "<thead>\n",
       "\t<tr><th scope=col>x</th></tr>\n",
       "\t<tr><th scope=col>&lt;dbl&gt;</th></tr>\n",
       "</thead>\n",
       "<tbody>\n",
       "\t<tr><td>6</td></tr>\n",
       "\t<tr><td>1</td></tr>\n",
       "\t<tr><td>7</td></tr>\n",
       "</tbody>\n",
       "</table>\n"
      ],
      "text/latex": [
       "A data.frame: 3 × 1\n",
       "\\begin{tabular}{l}\n",
       " x\\\\\n",
       " <dbl>\\\\\n",
       "\\hline\n",
       "\t 6\\\\\n",
       "\t 1\\\\\n",
       "\t 7\\\\\n",
       "\\end{tabular}\n"
      ],
      "text/markdown": [
       "\n",
       "A data.frame: 3 × 1\n",
       "\n",
       "| x &lt;dbl&gt; |\n",
       "|---|\n",
       "| 6 |\n",
       "| 1 |\n",
       "| 7 |\n",
       "\n"
      ],
      "text/plain": [
       "  x\n",
       "1 6\n",
       "2 1\n",
       "3 7"
      ]
     },
     "metadata": {},
     "output_type": "display_data"
    }
   ],
   "source": [
    "data <- data.frame(x)\n",
    "data"
   ]
  },
  {
   "cell_type": "code",
   "execution_count": 32,
   "id": "38c4c4b8",
   "metadata": {},
   "outputs": [
    {
     "data": {
      "text/html": [
       "<table class=\"dataframe\">\n",
       "<caption>A data.frame: 3 × 4</caption>\n",
       "<thead>\n",
       "\t<tr><th scope=col>x</th><th scope=col>dif</th><th scope=col>difs</th><th scope=col>abs</th></tr>\n",
       "\t<tr><th scope=col>&lt;dbl&gt;</th><th scope=col>&lt;dbl&gt;</th><th scope=col>&lt;dbl&gt;</th><th scope=col>&lt;dbl&gt;</th></tr>\n",
       "</thead>\n",
       "<tbody>\n",
       "\t<tr><td>6</td><td> 1.333333</td><td> 1.777778</td><td>1.333333</td></tr>\n",
       "\t<tr><td>1</td><td>-3.666667</td><td>13.444444</td><td>3.666667</td></tr>\n",
       "\t<tr><td>7</td><td> 2.333333</td><td> 5.444444</td><td>2.333333</td></tr>\n",
       "</tbody>\n",
       "</table>\n"
      ],
      "text/latex": [
       "A data.frame: 3 × 4\n",
       "\\begin{tabular}{llll}\n",
       " x & dif & difs & abs\\\\\n",
       " <dbl> & <dbl> & <dbl> & <dbl>\\\\\n",
       "\\hline\n",
       "\t 6 &  1.333333 &  1.777778 & 1.333333\\\\\n",
       "\t 1 & -3.666667 & 13.444444 & 3.666667\\\\\n",
       "\t 7 &  2.333333 &  5.444444 & 2.333333\\\\\n",
       "\\end{tabular}\n"
      ],
      "text/markdown": [
       "\n",
       "A data.frame: 3 × 4\n",
       "\n",
       "| x &lt;dbl&gt; | dif &lt;dbl&gt; | difs &lt;dbl&gt; | abs &lt;dbl&gt; |\n",
       "|---|---|---|---|\n",
       "| 6 |  1.333333 |  1.777778 | 1.333333 |\n",
       "| 1 | -3.666667 | 13.444444 | 3.666667 |\n",
       "| 7 |  2.333333 |  5.444444 | 2.333333 |\n",
       "\n"
      ],
      "text/plain": [
       "  x dif       difs      abs     \n",
       "1 6  1.333333  1.777778 1.333333\n",
       "2 1 -3.666667 13.444444 3.666667\n",
       "3 7  2.333333  5.444444 2.333333"
      ]
     },
     "metadata": {},
     "output_type": "display_data"
    }
   ],
   "source": [
    "library(dplyr)\n",
    "x <- c(6,1,7)\n",
    "c <- data %>% mutate(\n",
    "    dif=x-mean(x),\n",
    "    difs=dif^2,\n",
    "    abs=abs(dif)\n",
    ")\n",
    "c"
   ]
  },
  {
   "cell_type": "code",
   "execution_count": 38,
   "id": "3581373e",
   "metadata": {},
   "outputs": [
    {
     "data": {
      "text/html": [
       "10.3333333333333"
      ],
      "text/latex": [
       "10.3333333333333"
      ],
      "text/markdown": [
       "10.3333333333333"
      ],
      "text/plain": [
       "[1] 10.33333"
      ]
     },
     "metadata": {},
     "output_type": "display_data"
    }
   ],
   "source": [
    "sum(c$difs) / 2 "
   ]
  },
  {
   "cell_type": "code",
   "execution_count": 36,
   "id": "d5f3cd8f",
   "metadata": {},
   "outputs": [
    {
     "data": {
      "text/html": [
       "3.66666666666667"
      ],
      "text/latex": [
       "3.66666666666667"
      ],
      "text/markdown": [
       "3.66666666666667"
      ],
      "text/plain": [
       "[1] 3.666667"
      ]
     },
     "metadata": {},
     "output_type": "display_data"
    }
   ],
   "source": [
    "sum(c$abs) / 2 "
   ]
  },
  {
   "cell_type": "code",
   "execution_count": 41,
   "id": "7baf0530",
   "metadata": {},
   "outputs": [
    {
     "data": {
      "text/html": [
       "<style>\n",
       ".list-inline {list-style: none; margin:0; padding: 0}\n",
       ".list-inline>li {display: inline-block}\n",
       ".list-inline>li:not(:last-child)::after {content: \"\\00b7\"; padding: 0 .5ex}\n",
       "</style>\n",
       "<ol class=list-inline><li>6</li><li>1</li><li>7</li></ol>\n"
      ],
      "text/latex": [
       "\\begin{enumerate*}\n",
       "\\item 6\n",
       "\\item 1\n",
       "\\item 7\n",
       "\\end{enumerate*}\n"
      ],
      "text/markdown": [
       "1. 6\n",
       "2. 1\n",
       "3. 7\n",
       "\n",
       "\n"
      ],
      "text/plain": [
       "[1] 6 1 7"
      ]
     },
     "metadata": {},
     "output_type": "display_data"
    },
    {
     "ename": "ERROR",
     "evalue": "Error in UseMethod(\"determinant\"): no applicable method for 'determinant' applied to an object of class \"c('double', 'numeric')\"\n",
     "output_type": "error",
     "traceback": [
      "Error in UseMethod(\"determinant\"): no applicable method for 'determinant' applied to an object of class \"c('double', 'numeric')\"\nTraceback:\n",
      "1. determinant(x)"
     ]
    }
   ],
   "source": [
    "x"
   ]
  },
  {
   "cell_type": "code",
   "execution_count": 63,
   "id": "22069888",
   "metadata": {},
   "outputs": [
    {
     "data": {
      "text/html": [
       "-2"
      ],
      "text/latex": [
       "-2"
      ],
      "text/markdown": [
       "-2"
      ],
      "text/plain": [
       "[1] -2"
      ]
     },
     "metadata": {},
     "output_type": "display_data"
    }
   ],
   "source": [
    "m <- matrix(seq(1:4),nrow=2,ncol=2)\n",
    "det(m)"
   ]
  },
  {
   "cell_type": "code",
   "execution_count": 64,
   "id": "39d848de",
   "metadata": {},
   "outputs": [
    {
     "data": {
      "text/html": [
       "<table class=\"dataframe\">\n",
       "<caption>A matrix: 2 × 2 of type int</caption>\n",
       "<tbody>\n",
       "\t<tr><td>1</td><td>3</td></tr>\n",
       "\t<tr><td>2</td><td>4</td></tr>\n",
       "</tbody>\n",
       "</table>\n"
      ],
      "text/latex": [
       "A matrix: 2 × 2 of type int\n",
       "\\begin{tabular}{ll}\n",
       "\t 1 & 3\\\\\n",
       "\t 2 & 4\\\\\n",
       "\\end{tabular}\n"
      ],
      "text/markdown": [
       "\n",
       "A matrix: 2 × 2 of type int\n",
       "\n",
       "| 1 | 3 |\n",
       "| 2 | 4 |\n",
       "\n"
      ],
      "text/plain": [
       "     [,1] [,2]\n",
       "[1,] 1    3   \n",
       "[2,] 2    4   "
      ]
     },
     "metadata": {},
     "output_type": "display_data"
    }
   ],
   "source": [
    "m"
   ]
  },
  {
   "cell_type": "code",
   "execution_count": null,
   "id": "5818e633",
   "metadata": {},
   "outputs": [],
   "source": []
  }
 ],
 "metadata": {
  "kernelspec": {
   "display_name": "R",
   "language": "R",
   "name": "ir"
  },
  "language_info": {
   "codemirror_mode": "r",
   "file_extension": ".r",
   "mimetype": "text/x-r-source",
   "name": "R",
   "pygments_lexer": "r",
   "version": "4.1.1"
  }
 },
 "nbformat": 4,
 "nbformat_minor": 5
}
