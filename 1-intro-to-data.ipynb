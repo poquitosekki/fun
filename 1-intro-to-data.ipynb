{
 "cells": [
  {
   "cell_type": "code",
   "execution_count": 2,
   "id": "691dd4ba",
   "metadata": {},
   "outputs": [],
   "source": [
    "library(openintro)"
   ]
  },
  {
   "cell_type": "code",
   "execution_count": 17,
   "id": "b6dbdb5c",
   "metadata": {},
   "outputs": [
    {
     "data": {
      "text/html": [
       "<style>\n",
       ".list-inline {list-style: none; margin:0; padding: 0}\n",
       ".list-inline>li {display: inline-block}\n",
       ".list-inline>li:not(:last-child)::after {content: \"\\00b7\"; padding: 0 .5ex}\n",
       "</style>\n",
       "<ol class=list-inline><li>'name'</li><li>'state'</li><li>'pop2000'</li><li>'pop2010'</li><li>'pop2017'</li><li>'pop_change'</li><li>'poverty'</li><li>'homeownership'</li><li>'multi_unit'</li><li>'unemployment_rate'</li><li>'metro'</li><li>'median_edu'</li><li>'per_capita_income'</li><li>'median_hh_income'</li><li>'smoking_ban'</li></ol>\n"
      ],
      "text/latex": [
       "\\begin{enumerate*}\n",
       "\\item 'name'\n",
       "\\item 'state'\n",
       "\\item 'pop2000'\n",
       "\\item 'pop2010'\n",
       "\\item 'pop2017'\n",
       "\\item 'pop\\_change'\n",
       "\\item 'poverty'\n",
       "\\item 'homeownership'\n",
       "\\item 'multi\\_unit'\n",
       "\\item 'unemployment\\_rate'\n",
       "\\item 'metro'\n",
       "\\item 'median\\_edu'\n",
       "\\item 'per\\_capita\\_income'\n",
       "\\item 'median\\_hh\\_income'\n",
       "\\item 'smoking\\_ban'\n",
       "\\end{enumerate*}\n"
      ],
      "text/markdown": [
       "1. 'name'\n",
       "2. 'state'\n",
       "3. 'pop2000'\n",
       "4. 'pop2010'\n",
       "5. 'pop2017'\n",
       "6. 'pop_change'\n",
       "7. 'poverty'\n",
       "8. 'homeownership'\n",
       "9. 'multi_unit'\n",
       "10. 'unemployment_rate'\n",
       "11. 'metro'\n",
       "12. 'median_edu'\n",
       "13. 'per_capita_income'\n",
       "14. 'median_hh_income'\n",
       "15. 'smoking_ban'\n",
       "\n",
       "\n"
      ],
      "text/plain": [
       " [1] \"name\"              \"state\"             \"pop2000\"          \n",
       " [4] \"pop2010\"           \"pop2017\"           \"pop_change\"       \n",
       " [7] \"poverty\"           \"homeownership\"     \"multi_unit\"       \n",
       "[10] \"unemployment_rate\" \"metro\"             \"median_edu\"       \n",
       "[13] \"per_capita_income\" \"median_hh_income\"  \"smoking_ban\"      "
      ]
     },
     "metadata": {},
     "output_type": "display_data"
    }
   ],
   "source": [
    "names(county)"
   ]
  },
  {
   "cell_type": "code",
   "execution_count": 23,
   "id": "78af92ca",
   "metadata": {},
   "outputs": [
    {
     "data": {
      "text/plain": [
       "     name                state         pop2000           pop2010       \n",
       " Length:3142        Texas   : 254   Min.   :     67   Min.   :     82  \n",
       " Class :character   Georgia : 159   1st Qu.:  11224   1st Qu.:  11114  \n",
       " Mode  :character   Virginia: 133   Median :  24621   Median :  25872  \n",
       "                    Kentucky: 120   Mean   :  89650   Mean   :  98262  \n",
       "                    Missouri: 115   3rd Qu.:  61775   3rd Qu.:  66780  \n",
       "                    Kansas  : 105   Max.   :9519338   Max.   :9818605  \n",
       "                    (Other) :2256   NA's   :3                          \n",
       "    pop2017           pop_change          poverty      homeownership  \n",
       " Min.   :      88   Min.   :-33.6300   Min.   : 2.40   Min.   : 0.00  \n",
       " 1st Qu.:   10976   1st Qu.: -1.9700   1st Qu.:11.30   1st Qu.:69.50  \n",
       " Median :   25857   Median : -0.0600   Median :15.20   Median :74.60  \n",
       " Mean   :  103763   Mean   :  0.5339   Mean   :15.97   Mean   :73.27  \n",
       " 3rd Qu.:   67756   3rd Qu.:  2.3750   3rd Qu.:19.40   3rd Qu.:78.40  \n",
       " Max.   :10163507   Max.   : 37.1900   Max.   :52.00   Max.   :91.30  \n",
       " NA's   :3          NA's   :3          NA's   :2                      \n",
       "   multi_unit    unemployment_rate  metro             median_edu  \n",
       " Min.   : 0.00   Min.   : 1.620    no  :1974   below_hs    :   2  \n",
       " 1st Qu.: 6.10   1st Qu.: 3.520    yes :1165   hs_diploma  :1397  \n",
       " Median : 9.70   Median : 4.360    NA's:   3   some_college:1695  \n",
       " Mean   :12.32   Mean   : 4.611                bachelors   :  46  \n",
       " 3rd Qu.:15.90   3rd Qu.: 5.355                NA's        :   2  \n",
       " Max.   :98.50   Max.   :19.070                                   \n",
       "                 NA's   :3                                        \n",
       " per_capita_income median_hh_income   smoking_ban  \n",
       " Min.   :10467     Min.   : 19264   none    :1927  \n",
       " 1st Qu.:21772     1st Qu.: 41126   partial : 635  \n",
       " Median :25445     Median : 48073   complete:   0  \n",
       " Mean   :26093     Mean   : 49765   NA's    : 580  \n",
       " 3rd Qu.:29276     3rd Qu.: 55771                  \n",
       " Max.   :69533     Max.   :129588                  \n",
       " NA's   :2         NA's   :2                       "
      ]
     },
     "metadata": {},
     "output_type": "display_data"
    }
   ],
   "source": [
    "summary(county)"
   ]
  },
  {
   "cell_type": "code",
   "execution_count": 39,
   "id": "b37cb3b0",
   "metadata": {},
   "outputs": [
    {
     "data": {
      "image/png": "[encoded data removed]",
      "text/plain": [
       "plot without title"
      ]
     },
     "metadata": {
      "image/png": {
       "height": 420,
       "width": 420
      }
     },
     "output_type": "display_data"
    }
   ],
   "source": [
    "plot(county$multi_unit, county$homeownership)\n",
    "l1 = lm(county$homeownership ~ county$multi_unit)\n",
    "abline(l1)"
   ]
  },
  {
   "cell_type": "code",
   "execution_count": 31,
   "id": "bddd9dbf",
   "metadata": {},
   "outputs": [
    {
     "data": {
      "text/html": [
       "<table class=\"dataframe\">\n",
       "<caption>A tibble: 1 × 3</caption>\n",
       "<thead>\n",
       "\t<tr><th scope=col>name</th><th scope=col>homeownership</th><th scope=col>multi_unit</th></tr>\n",
       "\t<tr><th scope=col>&lt;chr&gt;</th><th scope=col>&lt;dbl&gt;</th><th scope=col>&lt;dbl&gt;</th></tr>\n",
       "</thead>\n",
       "<tbody>\n",
       "\t<tr><td>Chattahoochee County</td><td>31.3</td><td>39.4</td></tr>\n",
       "</tbody>\n",
       "</table>\n"
      ],
      "text/latex": [
       "A tibble: 1 × 3\n",
       "\\begin{tabular}{lll}\n",
       " name & homeownership & multi\\_unit\\\\\n",
       " <chr> & <dbl> & <dbl>\\\\\n",
       "\\hline\n",
       "\t Chattahoochee County & 31.3 & 39.4\\\\\n",
       "\\end{tabular}\n"
      ],
      "text/markdown": [
       "\n",
       "A tibble: 1 × 3\n",
       "\n",
       "| name &lt;chr&gt; | homeownership &lt;dbl&gt; | multi_unit &lt;dbl&gt; |\n",
       "|---|---|---|\n",
       "| Chattahoochee County | 31.3 | 39.4 |\n",
       "\n"
      ],
      "text/plain": [
       "  name                 homeownership multi_unit\n",
       "1 Chattahoochee County 31.3          39.4      "
      ]
     },
     "metadata": {},
     "output_type": "display_data"
    }
   ],
   "source": [
    "county[413, c('name', 'homeownership', 'multi_unit')]"
   ]
  },
  {
   "cell_type": "code",
   "execution_count": 41,
   "id": "6f7eb3bf",
   "metadata": {},
   "outputs": [
    {
     "data": {
      "image/png": "[encoded data removed]",
      "text/plain": [
       "plot without title"
      ]
     },
     "metadata": {
      "image/png": {
       "height": 420,
       "width": 420
      }
     },
     "output_type": "display_data"
    }
   ],
   "source": [
    "plot(county$median_hh_income, county$pop_change)\n",
    "l2 = lm(county$pop_change ~ county$median_hh_income)\n",
    "abline(l2)"
   ]
  },
  {
   "cell_type": "code",
   "execution_count": 45,
   "id": "9338c9af",
   "metadata": {},
   "outputs": [
    {
     "data": {
      "text/plain": [
       "\n",
       "Call:\n",
       "lm(formula = county$pop_change ~ county$median_hh_income)\n",
       "\n",
       "Residuals:\n",
       "    Min      1Q  Median      3Q     Max \n",
       "-33.775  -2.228  -0.473   1.779  34.523 \n",
       "\n",
       "Coefficients:\n",
       "                          Estimate Std. Error t value Pr(>|t|)    \n",
       "(Intercept)             -5.771e+00  2.607e-01  -22.14   <2e-16 ***\n",
       "county$median_hh_income  1.267e-04  5.066e-06   25.01   <2e-16 ***\n",
       "---\n",
       "Signif. codes:  0 '***' 0.001 '**' 0.01 '*' 0.05 '.' 0.1 ' ' 1\n",
       "\n",
       "Residual standard error: 3.73 on 3135 degrees of freedom\n",
       "  (5 observations deleted due to missingness)\n",
       "Multiple R-squared:  0.1664,\tAdjusted R-squared:  0.1661 \n",
       "F-statistic: 625.7 on 1 and 3135 DF,  p-value: < 2.2e-16\n"
      ]
     },
     "metadata": {},
     "output_type": "display_data"
    }
   ],
   "source": [
    "summary(l2)"
   ]
  },
  {
   "cell_type": "markdown",
   "id": "4e62f7e4",
   "metadata": {},
   "source": [
    "## Guided Practice 1.7"
   ]
  },
  {
   "cell_type": "code",
   "execution_count": 42,
   "id": "d6626865",
   "metadata": {},
   "outputs": [
    {
     "data": {
      "text/html": [
       "<style>\n",
       ".list-inline {list-style: none; margin:0; padding: 0}\n",
       ".list-inline>li {display: inline-block}\n",
       ".list-inline>li:not(:last-child)::after {content: \"\\00b7\"; padding: 0 .5ex}\n",
       "</style>\n",
       "<ol class=list-inline><li>'state'</li><li>'emp_length'</li><li>'term'</li><li>'homeownership'</li><li>'annual_income'</li><li>'verified_income'</li><li>'debt_to_income'</li><li>'total_credit_limit'</li><li>'total_credit_utilized'</li><li>'num_cc_carrying_balance'</li><li>'loan_purpose'</li><li>'loan_amount'</li><li>'grade'</li><li>'interest_rate'</li><li>'public_record_bankrupt'</li><li>'loan_status'</li><li>'has_second_income'</li><li>'total_income'</li></ol>\n"
      ],
      "text/latex": [
       "\\begin{enumerate*}\n",
       "\\item 'state'\n",
       "\\item 'emp\\_length'\n",
       "\\item 'term'\n",
       "\\item 'homeownership'\n",
       "\\item 'annual\\_income'\n",
       "\\item 'verified\\_income'\n",
       "\\item 'debt\\_to\\_income'\n",
       "\\item 'total\\_credit\\_limit'\n",
       "\\item 'total\\_credit\\_utilized'\n",
       "\\item 'num\\_cc\\_carrying\\_balance'\n",
       "\\item 'loan\\_purpose'\n",
       "\\item 'loan\\_amount'\n",
       "\\item 'grade'\n",
       "\\item 'interest\\_rate'\n",
       "\\item 'public\\_record\\_bankrupt'\n",
       "\\item 'loan\\_status'\n",
       "\\item 'has\\_second\\_income'\n",
       "\\item 'total\\_income'\n",
       "\\end{enumerate*}\n"
      ],
      "text/markdown": [
       "1. 'state'\n",
       "2. 'emp_length'\n",
       "3. 'term'\n",
       "4. 'homeownership'\n",
       "5. 'annual_income'\n",
       "6. 'verified_income'\n",
       "7. 'debt_to_income'\n",
       "8. 'total_credit_limit'\n",
       "9. 'total_credit_utilized'\n",
       "10. 'num_cc_carrying_balance'\n",
       "11. 'loan_purpose'\n",
       "12. 'loan_amount'\n",
       "13. 'grade'\n",
       "14. 'interest_rate'\n",
       "15. 'public_record_bankrupt'\n",
       "16. 'loan_status'\n",
       "17. 'has_second_income'\n",
       "18. 'total_income'\n",
       "\n",
       "\n"
      ],
      "text/plain": [
       " [1] \"state\"                   \"emp_length\"             \n",
       " [3] \"term\"                    \"homeownership\"          \n",
       " [5] \"annual_income\"           \"verified_income\"        \n",
       " [7] \"debt_to_income\"          \"total_credit_limit\"     \n",
       " [9] \"total_credit_utilized\"   \"num_cc_carrying_balance\"\n",
       "[11] \"loan_purpose\"            \"loan_amount\"            \n",
       "[13] \"grade\"                   \"interest_rate\"          \n",
       "[15] \"public_record_bankrupt\"  \"loan_status\"            \n",
       "[17] \"has_second_income\"       \"total_income\"           "
      ]
     },
     "metadata": {},
     "output_type": "display_data"
    }
   ],
   "source": [
    "names(loan50)"
   ]
  },
  {
   "cell_type": "code",
   "execution_count": null,
   "id": "d369a882",
   "metadata": {},
   "outputs": [],
   "source": [
    "summary(loan50)"
   ]
  },
  {
   "cell_type": "code",
   "execution_count": 44,
   "id": "d68d1d10",
   "metadata": {},
   "outputs": [
    {
     "data": {
      "image/png": "[encoded data removed]",
      "text/plain": [
       "plot without title"
      ]
     },
     "metadata": {
      "image/png": {
       "height": 420,
       "width": 420
      }
     },
     "output_type": "display_data"
    }
   ],
   "source": [
    "plot(loan50$loan_amount, loan50$interest_rate)"
   ]
  },
  {
   "cell_type": "code",
   "execution_count": 36,
   "id": "14e2fee8",
   "metadata": {},
   "outputs": [
    {
     "data": {
      "image/png": "[encoded data removed]",
      "text/plain": [
       "plot without title"
      ]
     },
     "metadata": {
      "image/png": {
       "height": 420,
       "width": 420
      }
     },
     "output_type": "display_data"
    }
   ],
   "source": [
    "plot(loan50$loan_amount, loan50$total_income)"
   ]
  },
  {
   "cell_type": "code",
   "execution_count": 37,
   "id": "a104fd02",
   "metadata": {},
   "outputs": [
    {
     "data": {
      "image/png": "[encoded data removed]",
      "text/plain": [
       "plot without title"
      ]
     },
     "metadata": {
      "image/png": {
       "height": 420,
       "width": 420
      }
     },
     "output_type": "display_data"
    }
   ],
   "source": [
    "plot(loan50$total_income, loan50$interest_rate)"
   ]
  },
  {
   "cell_type": "markdown",
   "id": "a953fe0d",
   "metadata": {},
   "source": [
    "## 1.9 Fisher's irises"
   ]
  },
  {
   "cell_type": "code",
   "execution_count": 48,
   "id": "3a65770c",
   "metadata": {},
   "outputs": [
    {
     "data": {
      "text/html": [
       "<table class=\"dataframe\">\n",
       "<caption>A data.frame: 6 × 5</caption>\n",
       "<thead>\n",
       "\t<tr><th></th><th scope=col>Sepal.Length</th><th scope=col>Sepal.Width</th><th scope=col>Petal.Length</th><th scope=col>Petal.Width</th><th scope=col>Species</th></tr>\n",
       "\t<tr><th></th><th scope=col>&lt;dbl&gt;</th><th scope=col>&lt;dbl&gt;</th><th scope=col>&lt;dbl&gt;</th><th scope=col>&lt;dbl&gt;</th><th scope=col>&lt;fct&gt;</th></tr>\n",
       "</thead>\n",
       "<tbody>\n",
       "\t<tr><th scope=row>1</th><td>5.1</td><td>3.5</td><td>1.4</td><td>0.2</td><td>setosa</td></tr>\n",
       "\t<tr><th scope=row>2</th><td>4.9</td><td>3.0</td><td>1.4</td><td>0.2</td><td>setosa</td></tr>\n",
       "\t<tr><th scope=row>3</th><td>4.7</td><td>3.2</td><td>1.3</td><td>0.2</td><td>setosa</td></tr>\n",
       "\t<tr><th scope=row>4</th><td>4.6</td><td>3.1</td><td>1.5</td><td>0.2</td><td>setosa</td></tr>\n",
       "\t<tr><th scope=row>5</th><td>5.0</td><td>3.6</td><td>1.4</td><td>0.2</td><td>setosa</td></tr>\n",
       "\t<tr><th scope=row>6</th><td>5.4</td><td>3.9</td><td>1.7</td><td>0.4</td><td>setosa</td></tr>\n",
       "</tbody>\n",
       "</table>\n"
      ],
      "text/latex": [
       "A data.frame: 6 × 5\n",
       "\\begin{tabular}{r|lllll}\n",
       "  & Sepal.Length & Sepal.Width & Petal.Length & Petal.Width & Species\\\\\n",
       "  & <dbl> & <dbl> & <dbl> & <dbl> & <fct>\\\\\n",
       "\\hline\n",
       "\t1 & 5.1 & 3.5 & 1.4 & 0.2 & setosa\\\\\n",
       "\t2 & 4.9 & 3.0 & 1.4 & 0.2 & setosa\\\\\n",
       "\t3 & 4.7 & 3.2 & 1.3 & 0.2 & setosa\\\\\n",
       "\t4 & 4.6 & 3.1 & 1.5 & 0.2 & setosa\\\\\n",
       "\t5 & 5.0 & 3.6 & 1.4 & 0.2 & setosa\\\\\n",
       "\t6 & 5.4 & 3.9 & 1.7 & 0.4 & setosa\\\\\n",
       "\\end{tabular}\n"
      ],
      "text/markdown": [
       "\n",
       "A data.frame: 6 × 5\n",
       "\n",
       "| <!--/--> | Sepal.Length &lt;dbl&gt; | Sepal.Width &lt;dbl&gt; | Petal.Length &lt;dbl&gt; | Petal.Width &lt;dbl&gt; | Species &lt;fct&gt; |\n",
       "|---|---|---|---|---|---|\n",
       "| 1 | 5.1 | 3.5 | 1.4 | 0.2 | setosa |\n",
       "| 2 | 4.9 | 3.0 | 1.4 | 0.2 | setosa |\n",
       "| 3 | 4.7 | 3.2 | 1.3 | 0.2 | setosa |\n",
       "| 4 | 4.6 | 3.1 | 1.5 | 0.2 | setosa |\n",
       "| 5 | 5.0 | 3.6 | 1.4 | 0.2 | setosa |\n",
       "| 6 | 5.4 | 3.9 | 1.7 | 0.4 | setosa |\n",
       "\n"
      ],
      "text/plain": [
       "  Sepal.Length Sepal.Width Petal.Length Petal.Width Species\n",
       "1 5.1          3.5         1.4          0.2         setosa \n",
       "2 4.9          3.0         1.4          0.2         setosa \n",
       "3 4.7          3.2         1.3          0.2         setosa \n",
       "4 4.6          3.1         1.5          0.2         setosa \n",
       "5 5.0          3.6         1.4          0.2         setosa \n",
       "6 5.4          3.9         1.7          0.4         setosa "
      ]
     },
     "metadata": {},
     "output_type": "display_data"
    }
   ],
   "source": [
    "head(iris)"
   ]
  },
  {
   "cell_type": "code",
   "execution_count": null,
   "id": "d9017e6e",
   "metadata": {},
   "outputs": [],
   "source": []
  }
 ],
 "metadata": {
  "kernelspec": {
   "display_name": "R",
   "language": "R",
   "name": "ir"
  },
  "language_info": {
   "codemirror_mode": "r",
   "file_extension": ".r",
   "mimetype": "text/x-r-source",
   "name": "R",
   "pygments_lexer": "r",
   "version": "4.1.1"
  }
 },
 "nbformat": 4,
 "nbformat_minor": 5
}
