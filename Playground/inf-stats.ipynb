{
 "cells": [
  {
   "cell_type": "code",
   "execution_count": 112,
   "id": "38941a6a",
   "metadata": {},
   "outputs": [],
   "source": [
    "import warnings\n",
    "warnings.filterwarnings('ignore')\n",
    "import numpy as np\n",
    "import pandas as pd\n",
    "import matplotlib.pyplot as plt\n",
    "import seaborn as sns\n",
    "%matplotlib inline"
   ]
  },
  {
   "cell_type": "markdown",
   "id": "0eb25468",
   "metadata": {},
   "source": [
    "# Notes\n",
    "\n",
    "* We always work with a sample of data rather than working with whole populations.\n",
    "* We use sample data to make infrerences about the population.\n",
    "* While doing that we should always look out for **The standard Estimated Error**.\n",
    "\n",
    "<hr>\n",
    "\n",
    "* In this notebook, I will be finding the mean & proportion of different variables with 95% level of confidence.\n",
    "* Before we start finding our confidence interval, we should make clear the few assumptions we are holding true for this data set.\n",
    "    - Samples are SRS (Simple Random Sampling) (Observations in the population have an equal chance of being randomly selected).\n",
    "    - Normality (Our Variables are following a Gaussian).\n",
    "    - If not normal, then we assume normality usnig the central limit theorem (as n->inf => Gaussian).\n",
    "* Calculating a confidence interval of a parameter of Interest is done by:\n",
    "    - First: getting our best point estimate (usually the statistic of the sample).\n",
    "    - Then: calculating our lower & upper bound for the interval. \n",
    "* What does a 95% confidence interval mean?\n",
    "    - It means that we are 95% confident in the statistical procedure we are using for making this interval.\n",
    "    - If we draw a 100 samples from our population, then we are expecting 95 intervals of these samples to hold our true population parameter that we are estimating.\n",
    "* How to calculate a confidence interval?\n",
    "    - We can get a confidence interval as follows: $$Best Estimate \\pm Margin of Error$$ which is $$Population Proportion or Mean \\pm (t-multiplier * Standard Error)$$"
   ]
  },
  {
   "cell_type": "code",
   "execution_count": 113,
   "id": "59c47844",
   "metadata": {},
   "outputs": [
    {
     "data": {
      "text/plain": [
       "(768, 9)"
      ]
     },
     "execution_count": 113,
     "metadata": {},
     "output_type": "execute_result"
    }
   ],
   "source": [
    "df = pd.read_csv('./diabetes.csv')\n",
    "df.shape"
   ]
  },
  {
   "cell_type": "code",
   "execution_count": 114,
   "id": "17900187",
   "metadata": {},
   "outputs": [
    {
     "data": {
      "text/html": [
       "<div>\n",
       "<style scoped>\n",
       "    .dataframe tbody tr th:only-of-type {\n",
       "        vertical-align: middle;\n",
       "    }\n",
       "\n",
       "    .dataframe tbody tr th {\n",
       "        vertical-align: top;\n",
       "    }\n",
       "\n",
       "    .dataframe thead th {\n",
       "        text-align: right;\n",
       "    }\n",
       "</style>\n",
       "<table border=\"1\" class=\"dataframe\">\n",
       "  <thead>\n",
       "    <tr style=\"text-align: right;\">\n",
       "      <th></th>\n",
       "      <th>Pregnancies</th>\n",
       "      <th>Glucose</th>\n",
       "      <th>BloodPressure</th>\n",
       "      <th>SkinThickness</th>\n",
       "      <th>Insulin</th>\n",
       "      <th>BMI</th>\n",
       "      <th>DiabetesPedigreeFunction</th>\n",
       "      <th>Age</th>\n",
       "      <th>Outcome</th>\n",
       "    </tr>\n",
       "  </thead>\n",
       "  <tbody>\n",
       "    <tr>\n",
       "      <th>0</th>\n",
       "      <td>6</td>\n",
       "      <td>148</td>\n",
       "      <td>72</td>\n",
       "      <td>35</td>\n",
       "      <td>0</td>\n",
       "      <td>33.6</td>\n",
       "      <td>0.627</td>\n",
       "      <td>50</td>\n",
       "      <td>1</td>\n",
       "    </tr>\n",
       "    <tr>\n",
       "      <th>1</th>\n",
       "      <td>1</td>\n",
       "      <td>85</td>\n",
       "      <td>66</td>\n",
       "      <td>29</td>\n",
       "      <td>0</td>\n",
       "      <td>26.6</td>\n",
       "      <td>0.351</td>\n",
       "      <td>31</td>\n",
       "      <td>0</td>\n",
       "    </tr>\n",
       "    <tr>\n",
       "      <th>2</th>\n",
       "      <td>8</td>\n",
       "      <td>183</td>\n",
       "      <td>64</td>\n",
       "      <td>0</td>\n",
       "      <td>0</td>\n",
       "      <td>23.3</td>\n",
       "      <td>0.672</td>\n",
       "      <td>32</td>\n",
       "      <td>1</td>\n",
       "    </tr>\n",
       "    <tr>\n",
       "      <th>3</th>\n",
       "      <td>1</td>\n",
       "      <td>89</td>\n",
       "      <td>66</td>\n",
       "      <td>23</td>\n",
       "      <td>94</td>\n",
       "      <td>28.1</td>\n",
       "      <td>0.167</td>\n",
       "      <td>21</td>\n",
       "      <td>0</td>\n",
       "    </tr>\n",
       "    <tr>\n",
       "      <th>4</th>\n",
       "      <td>0</td>\n",
       "      <td>137</td>\n",
       "      <td>40</td>\n",
       "      <td>35</td>\n",
       "      <td>168</td>\n",
       "      <td>43.1</td>\n",
       "      <td>2.288</td>\n",
       "      <td>33</td>\n",
       "      <td>1</td>\n",
       "    </tr>\n",
       "  </tbody>\n",
       "</table>\n",
       "</div>"
      ],
      "text/plain": [
       "   Pregnancies  Glucose  BloodPressure  SkinThickness  Insulin   BMI  \\\n",
       "0            6      148             72             35        0  33.6   \n",
       "1            1       85             66             29        0  26.6   \n",
       "2            8      183             64              0        0  23.3   \n",
       "3            1       89             66             23       94  28.1   \n",
       "4            0      137             40             35      168  43.1   \n",
       "\n",
       "   DiabetesPedigreeFunction  Age  Outcome  \n",
       "0                     0.627   50        1  \n",
       "1                     0.351   31        0  \n",
       "2                     0.672   32        1  \n",
       "3                     0.167   21        0  \n",
       "4                     2.288   33        1  "
      ]
     },
     "execution_count": 114,
     "metadata": {},
     "output_type": "execute_result"
    }
   ],
   "source": [
    "df.head()"
   ]
  },
  {
   "cell_type": "markdown",
   "id": "dadd68a4",
   "metadata": {},
   "source": [
    "# Some checks for normality assumptions"
   ]
  },
  {
   "cell_type": "code",
   "execution_count": 197,
   "id": "9c933840",
   "metadata": {},
   "outputs": [
    {
     "data": {
      "text/plain": [
       "<AxesSubplot:xlabel='Pregnancies', ylabel='Density'>"
      ]
     },
     "execution_count": 197,
     "metadata": {},
     "output_type": "execute_result"
    },
    {
     "data": {
      "image/png": "[encoded data removed]",
      "text/plain": [
       "<Figure size 432x288 with 1 Axes>"
      ]
     },
     "metadata": {
      "needs_background": "light"
     },
     "output_type": "display_data"
    }
   ],
   "source": [
    "# This distribution is more or less normal but strongly skewed to the right\n",
    "sns.distplot(df.Pregnancies)"
   ]
  },
  {
   "cell_type": "code",
   "execution_count": null,
   "id": "2b67a265",
   "metadata": {},
   "outputs": [],
   "source": []
  },
  {
   "cell_type": "code",
   "execution_count": null,
   "id": "9c33b537",
   "metadata": {},
   "outputs": [],
   "source": []
  },
  {
   "cell_type": "markdown",
   "id": "d1dc0a6a",
   "metadata": {},
   "source": [
    "# Now the time for questions!\n",
    "\n",
    "## Question 1\n",
    "\n",
    "* What proportion of people report they have diabetes (according to the sample)?\n",
    "* Population -> People with diabetes\n",
    "* Parameter  -> Proportion that have diabetes\n",
    "* **Task: Construct a 95% confidence interval for the population proportion of people reporting they have diabetes.**"
   ]
  },
  {
   "cell_type": "code",
   "execution_count": 115,
   "id": "8ef928dc",
   "metadata": {},
   "outputs": [
    {
     "name": "stdout",
     "output_type": "stream",
     "text": [
      "Non-Diab    500\n",
      "Diab        268\n",
      "Name: Outcome, dtype: int64\n",
      "Proportion of sample diabetes: 0.35\n"
     ]
    }
   ],
   "source": [
    "df.Outcome.replace({0:'Non-Diab', 1:'Diab'}, inplace=True)\n",
    "print(df.Outcome.value_counts())\n",
    "print('Proportion of sample diabetes: %.2f' % (df.Outcome.value_counts()[1]/df.shape[0]))"
   ]
  },
  {
   "cell_type": "code",
   "execution_count": 116,
   "id": "9bdfacbe",
   "metadata": {},
   "outputs": [
    {
     "data": {
      "text/plain": [
       "(0.3152483405027714, 0.38266832616389523)"
      ]
     },
     "execution_count": 116,
     "metadata": {},
     "output_type": "execute_result"
    }
   ],
   "source": [
    "import statsmodels.api as sm\n",
    "low,up = sm.stats.proportion_confint(diabetic, n)\n",
    "low,up"
   ]
  },
  {
   "cell_type": "markdown",
   "id": "0c5f2e56",
   "metadata": {},
   "source": [
    "## Interpreting the Result\n",
    "\n",
    "* With 95% confidence, the population proportion of people having diabetes is estimated to be between 31.5% - 38%."
   ]
  },
  {
   "cell_type": "markdown",
   "id": "af5e495f",
   "metadata": {},
   "source": [
    "## Question 2\n",
    "\n",
    "* What is the average times of Pregnancies for Patients with diabetes?\n",
    "* Population -> All patients with diabetes.\n",
    "* Parameter -> Population pregnancy times of patients with diabetes.\n",
    "* **Task: Construct a 95% CI for population mean pregnancies month for all patients with diabetes**"
   ]
  },
  {
   "cell_type": "code",
   "execution_count": 117,
   "id": "bb61f408",
   "metadata": {
    "scrolled": true
   },
   "outputs": [
    {
     "data": {
      "text/html": [
       "<div>\n",
       "<style scoped>\n",
       "    .dataframe tbody tr th:only-of-type {\n",
       "        vertical-align: middle;\n",
       "    }\n",
       "\n",
       "    .dataframe tbody tr th {\n",
       "        vertical-align: top;\n",
       "    }\n",
       "\n",
       "    .dataframe thead th {\n",
       "        text-align: right;\n",
       "    }\n",
       "</style>\n",
       "<table border=\"1\" class=\"dataframe\">\n",
       "  <thead>\n",
       "    <tr style=\"text-align: right;\">\n",
       "      <th></th>\n",
       "      <th>Pregnancies</th>\n",
       "      <th>Glucose</th>\n",
       "      <th>BloodPressure</th>\n",
       "      <th>SkinThickness</th>\n",
       "      <th>Insulin</th>\n",
       "      <th>BMI</th>\n",
       "      <th>DiabetesPedigreeFunction</th>\n",
       "      <th>Age</th>\n",
       "      <th>Outcome</th>\n",
       "    </tr>\n",
       "  </thead>\n",
       "  <tbody>\n",
       "    <tr>\n",
       "      <th>0</th>\n",
       "      <td>6</td>\n",
       "      <td>148</td>\n",
       "      <td>72</td>\n",
       "      <td>35</td>\n",
       "      <td>0</td>\n",
       "      <td>33.6</td>\n",
       "      <td>0.627</td>\n",
       "      <td>50</td>\n",
       "      <td>Diab</td>\n",
       "    </tr>\n",
       "    <tr>\n",
       "      <th>2</th>\n",
       "      <td>8</td>\n",
       "      <td>183</td>\n",
       "      <td>64</td>\n",
       "      <td>0</td>\n",
       "      <td>0</td>\n",
       "      <td>23.3</td>\n",
       "      <td>0.672</td>\n",
       "      <td>32</td>\n",
       "      <td>Diab</td>\n",
       "    </tr>\n",
       "    <tr>\n",
       "      <th>4</th>\n",
       "      <td>0</td>\n",
       "      <td>137</td>\n",
       "      <td>40</td>\n",
       "      <td>35</td>\n",
       "      <td>168</td>\n",
       "      <td>43.1</td>\n",
       "      <td>2.288</td>\n",
       "      <td>33</td>\n",
       "      <td>Diab</td>\n",
       "    </tr>\n",
       "    <tr>\n",
       "      <th>6</th>\n",
       "      <td>3</td>\n",
       "      <td>78</td>\n",
       "      <td>50</td>\n",
       "      <td>32</td>\n",
       "      <td>88</td>\n",
       "      <td>31.0</td>\n",
       "      <td>0.248</td>\n",
       "      <td>26</td>\n",
       "      <td>Diab</td>\n",
       "    </tr>\n",
       "    <tr>\n",
       "      <th>8</th>\n",
       "      <td>2</td>\n",
       "      <td>197</td>\n",
       "      <td>70</td>\n",
       "      <td>45</td>\n",
       "      <td>543</td>\n",
       "      <td>30.5</td>\n",
       "      <td>0.158</td>\n",
       "      <td>53</td>\n",
       "      <td>Diab</td>\n",
       "    </tr>\n",
       "  </tbody>\n",
       "</table>\n",
       "</div>"
      ],
      "text/plain": [
       "   Pregnancies  Glucose  BloodPressure  SkinThickness  Insulin   BMI  \\\n",
       "0            6      148             72             35        0  33.6   \n",
       "2            8      183             64              0        0  23.3   \n",
       "4            0      137             40             35      168  43.1   \n",
       "6            3       78             50             32       88  31.0   \n",
       "8            2      197             70             45      543  30.5   \n",
       "\n",
       "   DiabetesPedigreeFunction  Age Outcome  \n",
       "0                     0.627   50    Diab  \n",
       "2                     0.672   32    Diab  \n",
       "4                     2.288   33    Diab  \n",
       "6                     0.248   26    Diab  \n",
       "8                     0.158   53    Diab  "
      ]
     },
     "execution_count": 117,
     "metadata": {},
     "output_type": "execute_result"
    }
   ],
   "source": [
    "df_diab = df[df.Outcome=='Diab']\n",
    "df_diab.head()"
   ]
  },
  {
   "cell_type": "code",
   "execution_count": 118,
   "id": "0dcd917b",
   "metadata": {},
   "outputs": [
    {
     "data": {
      "text/plain": [
       "count    268.000000\n",
       "mean       4.865672\n",
       "std        3.741239\n",
       "min        0.000000\n",
       "25%        1.750000\n",
       "50%        4.000000\n",
       "75%        8.000000\n",
       "max       17.000000\n",
       "Name: Pregnancies, dtype: float64"
      ]
     },
     "execution_count": 118,
     "metadata": {},
     "output_type": "execute_result"
    }
   ],
   "source": [
    "df_diab.Pregnancies.describe()"
   ]
  },
  {
   "cell_type": "code",
   "execution_count": 119,
   "id": "bb2277ea",
   "metadata": {},
   "outputs": [
    {
     "data": {
      "text/plain": [
       "(4.417756079185482, 5.313587204396608)"
      ]
     },
     "execution_count": 119,
     "metadata": {},
     "output_type": "execute_result"
    }
   ],
   "source": [
    "low,up = sm.stats.DescrStatsW(df_diab['Pregnancies']).zconfint_mean()\n",
    "low,up"
   ]
  },
  {
   "cell_type": "code",
   "execution_count": 120,
   "id": "55ac966e",
   "metadata": {},
   "outputs": [
    {
     "data": {
      "text/plain": [
       "Text(0.5, 1.0, 'Pregnancies distribution for diabetic patients')"
      ]
     },
     "execution_count": 120,
     "metadata": {},
     "output_type": "execute_result"
    },
    {
     "data": {
      "image/png": "[encoded data removed]",
      "text/plain": [
       "<Figure size 432x288 with 1 Axes>"
      ]
     },
     "metadata": {
      "needs_background": "light"
     },
     "output_type": "display_data"
    }
   ],
   "source": [
    "sns.distplot(df_diab.Pregnancies)\n",
    "plt.axvline(df_diab.Pregnancies.mean(), color='r')\n",
    "plt.axvline(low, color='k', ls='--')\n",
    "plt.axvline(up, color='k', ls='--')\n",
    "plt.xticks([low,up],['lower bound', 'upper bound'],rotation=90)\n",
    "plt.title('Pregnancies distribution for diabetic patients')"
   ]
  },
  {
   "cell_type": "markdown",
   "id": "5afa89e4",
   "metadata": {},
   "source": [
    "## Interpreting the Result\n",
    "\n",
    "* With 95% confidence, the population mean of Pregnancy times for people having diabetes is estimated to be between 4.41 - 5.31 pregnancies."
   ]
  },
  {
   "cell_type": "markdown",
   "id": "e3b56c4d",
   "metadata": {},
   "source": [
    "## Question 3:\n",
    "\n",
    "* What is average number of pregnancy for non diabetic patients?\n",
    "* Population -> All non diabetic patients\n",
    "* Parameter -> Number of times pregnant\n",
    "* **Task: Construct a 95% CI for population mean of pregnancies for all non diabetic patients.**"
   ]
  },
  {
   "cell_type": "code",
   "execution_count": 121,
   "id": "7652756d",
   "metadata": {},
   "outputs": [
    {
     "data": {
      "text/html": [
       "<div>\n",
       "<style scoped>\n",
       "    .dataframe tbody tr th:only-of-type {\n",
       "        vertical-align: middle;\n",
       "    }\n",
       "\n",
       "    .dataframe tbody tr th {\n",
       "        vertical-align: top;\n",
       "    }\n",
       "\n",
       "    .dataframe thead th {\n",
       "        text-align: right;\n",
       "    }\n",
       "</style>\n",
       "<table border=\"1\" class=\"dataframe\">\n",
       "  <thead>\n",
       "    <tr style=\"text-align: right;\">\n",
       "      <th></th>\n",
       "      <th>Pregnancies</th>\n",
       "      <th>Outcome</th>\n",
       "    </tr>\n",
       "  </thead>\n",
       "  <tbody>\n",
       "    <tr>\n",
       "      <th>1</th>\n",
       "      <td>1</td>\n",
       "      <td>Non-Diab</td>\n",
       "    </tr>\n",
       "    <tr>\n",
       "      <th>3</th>\n",
       "      <td>1</td>\n",
       "      <td>Non-Diab</td>\n",
       "    </tr>\n",
       "    <tr>\n",
       "      <th>5</th>\n",
       "      <td>5</td>\n",
       "      <td>Non-Diab</td>\n",
       "    </tr>\n",
       "    <tr>\n",
       "      <th>7</th>\n",
       "      <td>10</td>\n",
       "      <td>Non-Diab</td>\n",
       "    </tr>\n",
       "    <tr>\n",
       "      <th>10</th>\n",
       "      <td>4</td>\n",
       "      <td>Non-Diab</td>\n",
       "    </tr>\n",
       "  </tbody>\n",
       "</table>\n",
       "</div>"
      ],
      "text/plain": [
       "    Pregnancies   Outcome\n",
       "1             1  Non-Diab\n",
       "3             1  Non-Diab\n",
       "5             5  Non-Diab\n",
       "7            10  Non-Diab\n",
       "10            4  Non-Diab"
      ]
     },
     "execution_count": 121,
     "metadata": {},
     "output_type": "execute_result"
    }
   ],
   "source": [
    "df_non_diab = df[df['Outcome']=='Non-Diab']\n",
    "df_non_diab.loc[:,['Pregnancies', 'Outcome']].head()"
   ]
  },
  {
   "cell_type": "code",
   "execution_count": 124,
   "id": "55ac1109",
   "metadata": {},
   "outputs": [
    {
     "data": {
      "text/plain": [
       "count    500.000000\n",
       "mean       3.298000\n",
       "std        3.017185\n",
       "min        0.000000\n",
       "25%        1.000000\n",
       "50%        2.000000\n",
       "75%        5.000000\n",
       "max       13.000000\n",
       "Name: Pregnancies, dtype: float64"
      ]
     },
     "execution_count": 124,
     "metadata": {},
     "output_type": "execute_result"
    }
   ],
   "source": [
    "df_non_diab.Pregnancies.describe()"
   ]
  },
  {
   "cell_type": "code",
   "execution_count": 128,
   "id": "30364d51",
   "metadata": {},
   "outputs": [
    {
     "data": {
      "text/plain": [
       "(3.033536970425177, 3.562463029574823)"
      ]
     },
     "execution_count": 128,
     "metadata": {},
     "output_type": "execute_result"
    }
   ],
   "source": [
    "low,up = sm.stats.DescrStatsW(df_non_diab.Pregnancies).zconfint_mean()\n",
    "low,up"
   ]
  },
  {
   "cell_type": "code",
   "execution_count": 133,
   "id": "0e77b063",
   "metadata": {},
   "outputs": [
    {
     "data": {
      "text/plain": [
       "Text(0.5, 1.0, 'Pregnancies Distribution for Non diabatic patients')"
      ]
     },
     "execution_count": 133,
     "metadata": {},
     "output_type": "execute_result"
    },
    {
     "data": {
      "image/png": "[encoded data removed]",
      "text/plain": [
       "<Figure size 432x288 with 1 Axes>"
      ]
     },
     "metadata": {
      "needs_background": "light"
     },
     "output_type": "display_data"
    }
   ],
   "source": [
    "sns.distplot(df_non_diab.Pregnancies)\n",
    "plt.axvline(df_non_diab.Pregnancies.mean(), color='r')\n",
    "plt.axvline(low, color='k', ls='--')\n",
    "plt.axvline(up, color='k', ls='--')\n",
    "plt.xticks([low,up],['lower bound', 'upper bound'], rotation=90)\n",
    "plt.title('Pregnancies Distribution for Non diabatic patients')"
   ]
  },
  {
   "cell_type": "markdown",
   "id": "012dc4e8",
   "metadata": {},
   "source": [
    "## Interprating the Result\n",
    "\n",
    "* With 95% confidence, the true population mean of pregnancy number for all non diabetec patients is between 3.03 - 3.56 pregnancies."
   ]
  },
  {
   "cell_type": "markdown",
   "id": "3173e1c4",
   "metadata": {},
   "source": [
    "## Question 4\n",
    "\n",
    "* Considering Diabetic-Non Diabetic patients, do diabetic and non-diabetic patients differ significantly in mean pregnancies month?\n",
    "* Population -> Diabetic and Non-Diabetic Patients\n",
    "* Parameter -> (μ1 − μ2): Mean Pregnancies Number\n",
    "* μ1 -> Mean pregnancies of Diabetic Patients.\n",
    "* μ2 -> Mean pregnancies of Non-Diabetic Patients\n",
    "\n",
    "## Rambling \n",
    "\n",
    "* To rephrase this question, we are asking if the difference in means that we observed in our samples is due to chance and the two groups are coming from the same population or there is significant difference between them?\n",
    "* For this we do a hypothesis test.\n",
    "    - H0: μ1 == μ2 (there is no difference)\n",
    "    - HA: μ1 != μ2 (there is no difference)\n",
    "* There is 2 approaches to use here, a pooled approach & non-pooled approach\n",
    "    - pooled: assume that the variance is equal in 2 populations\n",
    "    - non-pooled: The assumption of equal variances is dropped\n",
    "* Which approach to use? that depends on our data, let's explore a little and then choose!\n",
    "    - As you can see on the box plots below, the IQR or the variance is pretty much the same."
   ]
  },
  {
   "cell_type": "code",
   "execution_count": 144,
   "id": "3ae4ab86",
   "metadata": {},
   "outputs": [
    {
     "data": {
      "text/html": [
       "<div>\n",
       "<style scoped>\n",
       "    .dataframe tbody tr th:only-of-type {\n",
       "        vertical-align: middle;\n",
       "    }\n",
       "\n",
       "    .dataframe tbody tr th {\n",
       "        vertical-align: top;\n",
       "    }\n",
       "\n",
       "    .dataframe thead th {\n",
       "        text-align: right;\n",
       "    }\n",
       "</style>\n",
       "<table border=\"1\" class=\"dataframe\">\n",
       "  <thead>\n",
       "    <tr style=\"text-align: right;\">\n",
       "      <th>Outcome</th>\n",
       "      <th>Diab</th>\n",
       "      <th>Non-Diab</th>\n",
       "    </tr>\n",
       "  </thead>\n",
       "  <tbody>\n",
       "    <tr>\n",
       "      <th>mean</th>\n",
       "      <td>4.865672</td>\n",
       "      <td>3.298000</td>\n",
       "    </tr>\n",
       "    <tr>\n",
       "      <th>std</th>\n",
       "      <td>3.741239</td>\n",
       "      <td>3.017185</td>\n",
       "    </tr>\n",
       "  </tbody>\n",
       "</table>\n",
       "</div>"
      ],
      "text/plain": [
       "Outcome      Diab  Non-Diab\n",
       "mean     4.865672  3.298000\n",
       "std      3.741239  3.017185"
      ]
     },
     "execution_count": 144,
     "metadata": {},
     "output_type": "execute_result"
    }
   ],
   "source": [
    "df.groupby('Outcome').describe()['Pregnancies'].T.loc[['mean', 'std'],:]"
   ]
  },
  {
   "cell_type": "code",
   "execution_count": 167,
   "id": "1ab9cde9",
   "metadata": {},
   "outputs": [
    {
     "data": {
      "image/png": "[encoded data removed]",
      "text/plain": [
       "<Figure size 432x288 with 2 Axes>"
      ]
     },
     "metadata": {
      "needs_background": "light"
     },
     "output_type": "display_data"
    }
   ],
   "source": [
    "fig,ax = plt.subplots(nrows=1,ncols=2)\n",
    "sns.boxplot(df_non_diab.Pregnancies,ax=ax[0],orient='v')\n",
    "sns.boxplot(df_diab.Pregnancies,ax=ax[1],orient='v')\n",
    "ax[0].set_title('Non Diabetic')\n",
    "ax[1].set_title('Diabetic')\n",
    "plt.tight_layout()"
   ]
  },
  {
   "cell_type": "code",
   "execution_count": 186,
   "id": "8872d747",
   "metadata": {},
   "outputs": [
    {
     "data": {
      "text/plain": [
       "(2.3870925663883145, 0.018881296934367752)"
      ]
     },
     "execution_count": 186,
     "metadata": {},
     "output_type": "execute_result"
    }
   ],
   "source": [
    "from scipy.stats import ttest_rel\n",
    "# ttest_rel(df_diab.Pregnancies), df_non_diab.Pregnancies))\n",
    "g1 = np.asarray(df_diab.Pregnancies)\n",
    "g2 = np.asarray(df_non_diab.Pregnancies)\n",
    "gg1 = g1[np.random.choice(len(g1),size=100)]\n",
    "gg2 = g2[np.random.choice(len(g2),size=100)]\n",
    "\n",
    "t,pvalue = ttest_rel(gg1, gg2)\n",
    "t,pvalue"
   ]
  },
  {
   "cell_type": "markdown",
   "id": "eb9f4e62",
   "metadata": {},
   "source": [
    "## Interpreting Results\n",
    "\n",
    "* Our p-value=0.01 < 0.05, so we have statistically significant evidence to reject the null hypothesis H0 & we accept the alternative hypothesis Ha.\n",
    "* With 95% confidence, we say that there is a difference between the mean pregnancies between the 2 groups (diabetic and non diabetic people)."
   ]
  },
  {
   "cell_type": "code",
   "execution_count": null,
   "id": "a3756bc8",
   "metadata": {},
   "outputs": [],
   "source": []
  }
 ],
 "metadata": {
  "kernelspec": {
   "display_name": "Python 3 (ipykernel)",
   "language": "python",
   "name": "python3"
  },
  "language_info": {
   "codemirror_mode": {
    "name": "ipython",
    "version": 3
   },
   "file_extension": ".py",
   "mimetype": "text/x-python",
   "name": "python",
   "nbconvert_exporter": "python",
   "pygments_lexer": "ipython3",
   "version": "3.9.6"
  }
 },
 "nbformat": 4,
 "nbformat_minor": 5
}
