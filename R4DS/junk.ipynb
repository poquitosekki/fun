{
 "cells": [
  {
   "cell_type": "code",
   "execution_count": 24,
   "id": "bf732ceb",
   "metadata": {},
   "outputs": [],
   "source": [
    "library(readr)\n",
    "library(dplyr)\n",
    "library(janitor)\n",
    "library(ggplot2)"
   ]
  },
  {
   "cell_type": "code",
   "execution_count": 25,
   "id": "40629e78",
   "metadata": {},
   "outputs": [
    {
     "data": {
      "text/html": [
       "<style>\n",
       ".list-inline {list-style: none; margin:0; padding: 0}\n",
       ".list-inline>li {display: inline-block}\n",
       ".list-inline>li:not(:last-child)::after {content: \"\\00b7\"; padding: 0 .5ex}\n",
       "</style>\n",
       "<ol class=list-inline><li>'StudentsPerformance.csv'</li><li>'titanic.csv'</li></ol>\n"
      ],
      "text/latex": [
       "\\begin{enumerate*}\n",
       "\\item 'StudentsPerformance.csv'\n",
       "\\item 'titanic.csv'\n",
       "\\end{enumerate*}\n"
      ],
      "text/markdown": [
       "1. 'StudentsPerformance.csv'\n",
       "2. 'titanic.csv'\n",
       "\n",
       "\n"
      ],
      "text/plain": [
       "[1] \"StudentsPerformance.csv\" \"titanic.csv\"            "
      ]
     },
     "metadata": {},
     "output_type": "display_data"
    }
   ],
   "source": [
    "list.files('./', pattern='.csv')"
   ]
  },
  {
   "cell_type": "code",
   "execution_count": 26,
   "id": "57ea0f79",
   "metadata": {},
   "outputs": [
    {
     "data": {
      "text/html": [
       "<table class=\"dataframe\">\n",
       "<caption>A tibble: 6 × 8</caption>\n",
       "<thead>\n",
       "\t<tr><th scope=col>gender</th><th scope=col>race_ethnicity</th><th scope=col>parental_level_of_education</th><th scope=col>lunch</th><th scope=col>test_preparation_course</th><th scope=col>math_score</th><th scope=col>reading_score</th><th scope=col>writing_score</th></tr>\n",
       "\t<tr><th scope=col>&lt;chr&gt;</th><th scope=col>&lt;chr&gt;</th><th scope=col>&lt;chr&gt;</th><th scope=col>&lt;chr&gt;</th><th scope=col>&lt;chr&gt;</th><th scope=col>&lt;dbl&gt;</th><th scope=col>&lt;dbl&gt;</th><th scope=col>&lt;dbl&gt;</th></tr>\n",
       "</thead>\n",
       "<tbody>\n",
       "\t<tr><td>female</td><td>group B</td><td>bachelor's degree </td><td>standard    </td><td>none     </td><td>72</td><td>72</td><td>74</td></tr>\n",
       "\t<tr><td>female</td><td>group C</td><td>some college      </td><td>standard    </td><td>completed</td><td>69</td><td>90</td><td>88</td></tr>\n",
       "\t<tr><td>female</td><td>group B</td><td>master's degree   </td><td>standard    </td><td>none     </td><td>90</td><td>95</td><td>93</td></tr>\n",
       "\t<tr><td>male  </td><td>group A</td><td>associate's degree</td><td>free/reduced</td><td>none     </td><td>47</td><td>57</td><td>44</td></tr>\n",
       "\t<tr><td>male  </td><td>group C</td><td>some college      </td><td>standard    </td><td>none     </td><td>76</td><td>78</td><td>75</td></tr>\n",
       "\t<tr><td>female</td><td>group B</td><td>associate's degree</td><td>standard    </td><td>none     </td><td>71</td><td>83</td><td>78</td></tr>\n",
       "</tbody>\n",
       "</table>\n"
      ],
      "text/latex": [
       "A tibble: 6 × 8\n",
       "\\begin{tabular}{llllllll}\n",
       " gender & race\\_ethnicity & parental\\_level\\_of\\_education & lunch & test\\_preparation\\_course & math\\_score & reading\\_score & writing\\_score\\\\\n",
       " <chr> & <chr> & <chr> & <chr> & <chr> & <dbl> & <dbl> & <dbl>\\\\\n",
       "\\hline\n",
       "\t female & group B & bachelor's degree  & standard     & none      & 72 & 72 & 74\\\\\n",
       "\t female & group C & some college       & standard     & completed & 69 & 90 & 88\\\\\n",
       "\t female & group B & master's degree    & standard     & none      & 90 & 95 & 93\\\\\n",
       "\t male   & group A & associate's degree & free/reduced & none      & 47 & 57 & 44\\\\\n",
       "\t male   & group C & some college       & standard     & none      & 76 & 78 & 75\\\\\n",
       "\t female & group B & associate's degree & standard     & none      & 71 & 83 & 78\\\\\n",
       "\\end{tabular}\n"
      ],
      "text/markdown": [
       "\n",
       "A tibble: 6 × 8\n",
       "\n",
       "| gender &lt;chr&gt; | race_ethnicity &lt;chr&gt; | parental_level_of_education &lt;chr&gt; | lunch &lt;chr&gt; | test_preparation_course &lt;chr&gt; | math_score &lt;dbl&gt; | reading_score &lt;dbl&gt; | writing_score &lt;dbl&gt; |\n",
       "|---|---|---|---|---|---|---|---|\n",
       "| female | group B | bachelor's degree  | standard     | none      | 72 | 72 | 74 |\n",
       "| female | group C | some college       | standard     | completed | 69 | 90 | 88 |\n",
       "| female | group B | master's degree    | standard     | none      | 90 | 95 | 93 |\n",
       "| male   | group A | associate's degree | free/reduced | none      | 47 | 57 | 44 |\n",
       "| male   | group C | some college       | standard     | none      | 76 | 78 | 75 |\n",
       "| female | group B | associate's degree | standard     | none      | 71 | 83 | 78 |\n",
       "\n"
      ],
      "text/plain": [
       "  gender race_ethnicity parental_level_of_education lunch       \n",
       "1 female group B        bachelor's degree           standard    \n",
       "2 female group C        some college                standard    \n",
       "3 female group B        master's degree             standard    \n",
       "4 male   group A        associate's degree          free/reduced\n",
       "5 male   group C        some college                standard    \n",
       "6 female group B        associate's degree          standard    \n",
       "  test_preparation_course math_score reading_score writing_score\n",
       "1 none                    72         72            74           \n",
       "2 completed               69         90            88           \n",
       "3 none                    90         95            93           \n",
       "4 none                    47         57            44           \n",
       "5 none                    76         78            75           \n",
       "6 none                    71         83            78           "
      ]
     },
     "metadata": {},
     "output_type": "display_data"
    }
   ],
   "source": [
    "df <- read_csv('./StudentsPerformance.csv',show_col=cols()) %>% clean_names()\n",
    "head(df)"
   ]
  },
  {
   "cell_type": "code",
   "execution_count": 43,
   "id": "176190d4",
   "metadata": {},
   "outputs": [
    {
     "data": {
      "image/png": "[encoded data removed]",
      "text/plain": [
       "plot without title"
      ]
     },
     "metadata": {
      "image/png": {
       "height": 420,
       "width": 420
      }
     },
     "output_type": "display_data"
    }
   ],
   "source": [
    "ggplot(df,aes(race_ethnicity,fill=gender)) +\n",
    "    geom_bar(position='dodge')"
   ]
  },
  {
   "cell_type": "code",
   "execution_count": null,
   "id": "8cb5db47",
   "metadata": {},
   "outputs": [],
   "source": []
  }
 ],
 "metadata": {
  "kernelspec": {
   "display_name": "R",
   "language": "R",
   "name": "ir"
  },
  "language_info": {
   "codemirror_mode": "r",
   "file_extension": ".r",
   "mimetype": "text/x-r-source",
   "name": "R",
   "pygments_lexer": "r",
   "version": "4.1.1"
  }
 },
 "nbformat": 4,
 "nbformat_minor": 5
}
