{
 "cells": [
  {
   "cell_type": "code",
   "execution_count": 4,
   "id": "aa7d348d",
   "metadata": {},
   "outputs": [],
   "source": [
    "library(openintro)\n",
    "library(tidyverse)"
   ]
  },
  {
   "cell_type": "code",
   "execution_count": 13,
   "id": "20283cdc",
   "metadata": {},
   "outputs": [
    {
     "data": {
      "text/html": [
       "<table class=\"dataframe\">\n",
       "<caption>A tibble: 6 × 8</caption>\n",
       "<thead>\n",
       "\t<tr><th scope=col>id</th><th scope=col>degree</th><th scope=col>fte</th><th scope=col>years</th><th scope=col>base</th><th scope=col>fica</th><th scope=col>retirement</th><th scope=col>total</th></tr>\n",
       "\t<tr><th scope=col>&lt;fct&gt;</th><th scope=col>&lt;fct&gt;</th><th scope=col>&lt;fct&gt;</th><th scope=col>&lt;dbl&gt;</th><th scope=col>&lt;int&gt;</th><th scope=col>&lt;dbl&gt;</th><th scope=col>&lt;dbl&gt;</th><th scope=col>&lt;dbl&gt;</th></tr>\n",
       "</thead>\n",
       "<tbody>\n",
       "\t<tr><td>01</td><td>BA</td><td>1</td><td> 5.0</td><td>45388</td><td>3472.18</td><td> 7688.73</td><td>56548.91</td></tr>\n",
       "\t<tr><td>02</td><td>MA</td><td>1</td><td>15.0</td><td>60649</td><td>4639.65</td><td>10273.94</td><td>75562.59</td></tr>\n",
       "\t<tr><td>03</td><td>MA</td><td>1</td><td>16.0</td><td>60649</td><td>4639.65</td><td>10273.94</td><td>75562.59</td></tr>\n",
       "\t<tr><td>04</td><td>BA</td><td>1</td><td>10.0</td><td>54466</td><td>4166.65</td><td> 9226.54</td><td>67859.19</td></tr>\n",
       "\t<tr><td>05</td><td>BA</td><td>1</td><td>26.0</td><td>65360</td><td>5000.04</td><td>11071.98</td><td>81432.02</td></tr>\n",
       "\t<tr><td>06</td><td>BA</td><td>1</td><td>28.5</td><td>65360</td><td>5000.04</td><td>11071.98</td><td>81432.02</td></tr>\n",
       "</tbody>\n",
       "</table>\n"
      ],
      "text/latex": [
       "A tibble: 6 × 8\n",
       "\\begin{tabular}{llllllll}\n",
       " id & degree & fte & years & base & fica & retirement & total\\\\\n",
       " <fct> & <fct> & <fct> & <dbl> & <int> & <dbl> & <dbl> & <dbl>\\\\\n",
       "\\hline\n",
       "\t 01 & BA & 1 &  5.0 & 45388 & 3472.18 &  7688.73 & 56548.91\\\\\n",
       "\t 02 & MA & 1 & 15.0 & 60649 & 4639.65 & 10273.94 & 75562.59\\\\\n",
       "\t 03 & MA & 1 & 16.0 & 60649 & 4639.65 & 10273.94 & 75562.59\\\\\n",
       "\t 04 & BA & 1 & 10.0 & 54466 & 4166.65 &  9226.54 & 67859.19\\\\\n",
       "\t 05 & BA & 1 & 26.0 & 65360 & 5000.04 & 11071.98 & 81432.02\\\\\n",
       "\t 06 & BA & 1 & 28.5 & 65360 & 5000.04 & 11071.98 & 81432.02\\\\\n",
       "\\end{tabular}\n"
      ],
      "text/markdown": [
       "\n",
       "A tibble: 6 × 8\n",
       "\n",
       "| id &lt;fct&gt; | degree &lt;fct&gt; | fte &lt;fct&gt; | years &lt;dbl&gt; | base &lt;int&gt; | fica &lt;dbl&gt; | retirement &lt;dbl&gt; | total &lt;dbl&gt; |\n",
       "|---|---|---|---|---|---|---|---|\n",
       "| 01 | BA | 1 |  5.0 | 45388 | 3472.18 |  7688.73 | 56548.91 |\n",
       "| 02 | MA | 1 | 15.0 | 60649 | 4639.65 | 10273.94 | 75562.59 |\n",
       "| 03 | MA | 1 | 16.0 | 60649 | 4639.65 | 10273.94 | 75562.59 |\n",
       "| 04 | BA | 1 | 10.0 | 54466 | 4166.65 |  9226.54 | 67859.19 |\n",
       "| 05 | BA | 1 | 26.0 | 65360 | 5000.04 | 11071.98 | 81432.02 |\n",
       "| 06 | BA | 1 | 28.5 | 65360 | 5000.04 | 11071.98 | 81432.02 |\n",
       "\n"
      ],
      "text/plain": [
       "  id degree fte years base  fica    retirement total   \n",
       "1 01 BA     1    5.0  45388 3472.18  7688.73   56548.91\n",
       "2 02 MA     1   15.0  60649 4639.65 10273.94   75562.59\n",
       "3 03 MA     1   16.0  60649 4639.65 10273.94   75562.59\n",
       "4 04 BA     1   10.0  54466 4166.65  9226.54   67859.19\n",
       "5 05 BA     1   26.0  65360 5000.04 11071.98   81432.02\n",
       "6 06 BA     1   28.5  65360 5000.04 11071.98   81432.02"
      ]
     },
     "metadata": {},
     "output_type": "display_data"
    }
   ],
   "source": [
    "df <- openintro::teacher\n",
    "head(df)"
   ]
  },
  {
   "cell_type": "markdown",
   "id": "f40b3533",
   "metadata": {},
   "source": [
    "**Variables**\n",
    "* id: assigned randomly to every observational unit\n",
    "* degree: BA or MA\n",
    "* fte: Full-time enrollement status, 1=full-time or 0.5=part-time\n",
    "* years: years of teaching\n",
    "* base: base annual salary in dollars \n",
    "* fica: amount paid in social security and medicare per year through FICA in dollars \n",
    "* retirement: amount into retirement fund in dollars\n",
    "* total: total annual salary (base+fica+retirement)"
   ]
  },
  {
   "cell_type": "code",
   "execution_count": 16,
   "id": "fcc76feb",
   "metadata": {},
   "outputs": [
    {
     "data": {
      "image/png": "[encoded data removed]",
      "text/plain": [
       "plot without title"
      ]
     },
     "metadata": {
      "image/png": {
       "height": 420,
       "width": 420
      }
     },
     "output_type": "display_data"
    }
   ],
   "source": [
    "ggplot(data=df) +\n",
    "    geom_point(mapping=aes(x=years,y=total,color=degree),size=4)"
   ]
  },
  {
   "cell_type": "code",
   "execution_count": 34,
   "id": "06c70e26",
   "metadata": {},
   "outputs": [
    {
     "data": {
      "image/png": "[encoded data removed]",
      "text/plain": [
       "plot without title"
      ]
     },
     "metadata": {
      "image/png": {
       "height": 420,
       "width": 420
      }
     },
     "output_type": "display_data"
    }
   ],
   "source": [
    "ggplot(data=df) +\n",
    "    geom_point(mapping=aes(x=years,y=total,color=degree),size=4) +\n",
    "    facet_grid(fte~degree)"
   ]
  },
  {
   "cell_type": "code",
   "execution_count": 37,
   "id": "4be2b272",
   "metadata": {},
   "outputs": [
    {
     "data": {
      "text/html": [
       "<table class=\"dataframe\">\n",
       "<caption>A tibble: 6 × 8</caption>\n",
       "<thead>\n",
       "\t<tr><th scope=col>id</th><th scope=col>degree</th><th scope=col>fte</th><th scope=col>years</th><th scope=col>base</th><th scope=col>fica</th><th scope=col>retirement</th><th scope=col>total</th></tr>\n",
       "\t<tr><th scope=col>&lt;fct&gt;</th><th scope=col>&lt;fct&gt;</th><th scope=col>&lt;fct&gt;</th><th scope=col>&lt;dbl&gt;</th><th scope=col>&lt;int&gt;</th><th scope=col>&lt;dbl&gt;</th><th scope=col>&lt;dbl&gt;</th><th scope=col>&lt;dbl&gt;</th></tr>\n",
       "</thead>\n",
       "<tbody>\n",
       "\t<tr><td>01</td><td>BA</td><td>1</td><td> 5.0</td><td>45388</td><td>3472.18</td><td> 7688.73</td><td>56548.91</td></tr>\n",
       "\t<tr><td>02</td><td>MA</td><td>1</td><td>15.0</td><td>60649</td><td>4639.65</td><td>10273.94</td><td>75562.59</td></tr>\n",
       "\t<tr><td>03</td><td>MA</td><td>1</td><td>16.0</td><td>60649</td><td>4639.65</td><td>10273.94</td><td>75562.59</td></tr>\n",
       "\t<tr><td>04</td><td>BA</td><td>1</td><td>10.0</td><td>54466</td><td>4166.65</td><td> 9226.54</td><td>67859.19</td></tr>\n",
       "\t<tr><td>05</td><td>BA</td><td>1</td><td>26.0</td><td>65360</td><td>5000.04</td><td>11071.98</td><td>81432.02</td></tr>\n",
       "\t<tr><td>06</td><td>BA</td><td>1</td><td>28.5</td><td>65360</td><td>5000.04</td><td>11071.98</td><td>81432.02</td></tr>\n",
       "</tbody>\n",
       "</table>\n"
      ],
      "text/latex": [
       "A tibble: 6 × 8\n",
       "\\begin{tabular}{llllllll}\n",
       " id & degree & fte & years & base & fica & retirement & total\\\\\n",
       " <fct> & <fct> & <fct> & <dbl> & <int> & <dbl> & <dbl> & <dbl>\\\\\n",
       "\\hline\n",
       "\t 01 & BA & 1 &  5.0 & 45388 & 3472.18 &  7688.73 & 56548.91\\\\\n",
       "\t 02 & MA & 1 & 15.0 & 60649 & 4639.65 & 10273.94 & 75562.59\\\\\n",
       "\t 03 & MA & 1 & 16.0 & 60649 & 4639.65 & 10273.94 & 75562.59\\\\\n",
       "\t 04 & BA & 1 & 10.0 & 54466 & 4166.65 &  9226.54 & 67859.19\\\\\n",
       "\t 05 & BA & 1 & 26.0 & 65360 & 5000.04 & 11071.98 & 81432.02\\\\\n",
       "\t 06 & BA & 1 & 28.5 & 65360 & 5000.04 & 11071.98 & 81432.02\\\\\n",
       "\\end{tabular}\n"
      ],
      "text/markdown": [
       "\n",
       "A tibble: 6 × 8\n",
       "\n",
       "| id &lt;fct&gt; | degree &lt;fct&gt; | fte &lt;fct&gt; | years &lt;dbl&gt; | base &lt;int&gt; | fica &lt;dbl&gt; | retirement &lt;dbl&gt; | total &lt;dbl&gt; |\n",
       "|---|---|---|---|---|---|---|---|\n",
       "| 01 | BA | 1 |  5.0 | 45388 | 3472.18 |  7688.73 | 56548.91 |\n",
       "| 02 | MA | 1 | 15.0 | 60649 | 4639.65 | 10273.94 | 75562.59 |\n",
       "| 03 | MA | 1 | 16.0 | 60649 | 4639.65 | 10273.94 | 75562.59 |\n",
       "| 04 | BA | 1 | 10.0 | 54466 | 4166.65 |  9226.54 | 67859.19 |\n",
       "| 05 | BA | 1 | 26.0 | 65360 | 5000.04 | 11071.98 | 81432.02 |\n",
       "| 06 | BA | 1 | 28.5 | 65360 | 5000.04 | 11071.98 | 81432.02 |\n",
       "\n"
      ],
      "text/plain": [
       "  id degree fte years base  fica    retirement total   \n",
       "1 01 BA     1    5.0  45388 3472.18  7688.73   56548.91\n",
       "2 02 MA     1   15.0  60649 4639.65 10273.94   75562.59\n",
       "3 03 MA     1   16.0  60649 4639.65 10273.94   75562.59\n",
       "4 04 BA     1   10.0  54466 4166.65  9226.54   67859.19\n",
       "5 05 BA     1   26.0  65360 5000.04 11071.98   81432.02\n",
       "6 06 BA     1   28.5  65360 5000.04 11071.98   81432.02"
      ]
     },
     "metadata": {},
     "output_type": "display_data"
    }
   ],
   "source": [
    "head(df)"
   ]
  },
  {
   "cell_type": "code",
   "execution_count": 52,
   "id": "4ccf7d41",
   "metadata": {},
   "outputs": [
    {
     "data": {
      "image/png": "[encoded data removed]",
      "text/plain": [
       "plot without title"
      ]
     },
     "metadata": {
      "image/png": {
       "height": 420,
       "width": 420
      }
     },
     "output_type": "display_data"
    }
   ],
   "source": [
    "ggplot(data=df) +\n",
    "    geom_point(mapping=aes(x=years,y=total,color=degree),size=4) +\n",
    "    facet_wrap(~fte)"
   ]
  },
  {
   "cell_type": "code",
   "execution_count": null,
   "id": "157403fe",
   "metadata": {},
   "outputs": [],
   "source": []
  }
 ],
 "metadata": {
  "kernelspec": {
   "display_name": "R",
   "language": "R",
   "name": "ir"
  },
  "language_info": {
   "codemirror_mode": "r",
   "file_extension": ".r",
   "mimetype": "text/x-r-source",
   "name": "R",
   "pygments_lexer": "r",
   "version": "4.1.1"
  }
 },
 "nbformat": 4,
 "nbformat_minor": 5
}
