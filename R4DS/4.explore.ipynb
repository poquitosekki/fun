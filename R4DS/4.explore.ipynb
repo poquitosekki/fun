{
 "cells": [
  {
   "cell_type": "code",
   "execution_count": 2,
   "id": "bc269757",
   "metadata": {},
   "outputs": [],
   "source": [
    "library(dplyr)\n",
    "library(ggplot2)"
   ]
  },
  {
   "cell_type": "markdown",
   "id": "3d82624c",
   "metadata": {},
   "source": [
    "# Exploratory Data Analysis \n",
    "\n",
    "+ Ask Questions -> Answer them with your data -> modify/generate new questions.\n",
    "+ The goal during EDA is getting familiar with your data.\n",
    "\n",
    "\n",
    "+ There are no right questions for every data set, but your can refomulate these:\n",
    "    * What type of variation occurs **within** my variables?\n",
    "    * What type of covariation occurs **between** my variables?\n",
    "    \n",
    "    \n",
    "+ Some definitions to make our lives easier:\n",
    "    * A **variable** is a quantity, quality, or property that you can measure.\n",
    "    * A **value** is the state of a variable when you measure it. The value of a variable may change from measurement to measurement.\n",
    "    * An **observation** is a set of measurements made under similar conditions (you usually make all of the measurements in an observation at the same time and on the same object). An observation will contain several values, each associated with a different variable. I’ll sometimes refer to an observation as a data point.\n",
    "    * **Tabular data** is a set of values, each associated with a variable and an observation. Tabular data is tidy if each value is placed in its own “cell”, each variable in its own column, and each observation in its own row."
   ]
  },
  {
   "cell_type": "markdown",
   "id": "9947773a",
   "metadata": {},
   "source": [
    "## 1.Variation\n",
    "\n",
    "### Visualising Distributions"
   ]
  },
  {
   "cell_type": "code",
   "execution_count": 20,
   "id": "04282c34",
   "metadata": {},
   "outputs": [
    {
     "data": {
      "image/png": "[encoded data removed]",
      "text/plain": [
       "plot without title"
      ]
     },
     "metadata": {
      "image/png": {
       "height": 420,
       "width": 420
      }
     },
     "output_type": "display_data"
    }
   ],
   "source": [
    "ggplot(data=diamonds) +\n",
    "    geom_bar(mapping=aes(x=cut))"
   ]
  },
  {
   "cell_type": "code",
   "execution_count": 21,
   "id": "4dea3328",
   "metadata": {},
   "outputs": [
    {
     "data": {
      "text/html": [
       "<table class=\"dataframe\">\n",
       "<caption>A tibble: 5 × 2</caption>\n",
       "<thead>\n",
       "\t<tr><th scope=col>cut</th><th scope=col>n</th></tr>\n",
       "\t<tr><th scope=col>&lt;ord&gt;</th><th scope=col>&lt;int&gt;</th></tr>\n",
       "</thead>\n",
       "<tbody>\n",
       "\t<tr><td>Fair     </td><td> 1610</td></tr>\n",
       "\t<tr><td>Good     </td><td> 4906</td></tr>\n",
       "\t<tr><td>Very Good</td><td>12082</td></tr>\n",
       "\t<tr><td>Premium  </td><td>13791</td></tr>\n",
       "\t<tr><td>Ideal    </td><td>21551</td></tr>\n",
       "</tbody>\n",
       "</table>\n"
      ],
      "text/latex": [
       "A tibble: 5 × 2\n",
       "\\begin{tabular}{ll}\n",
       " cut & n\\\\\n",
       " <ord> & <int>\\\\\n",
       "\\hline\n",
       "\t Fair      &  1610\\\\\n",
       "\t Good      &  4906\\\\\n",
       "\t Very Good & 12082\\\\\n",
       "\t Premium   & 13791\\\\\n",
       "\t Ideal     & 21551\\\\\n",
       "\\end{tabular}\n"
      ],
      "text/markdown": [
       "\n",
       "A tibble: 5 × 2\n",
       "\n",
       "| cut &lt;ord&gt; | n &lt;int&gt; |\n",
       "|---|---|\n",
       "| Fair      |  1610 |\n",
       "| Good      |  4906 |\n",
       "| Very Good | 12082 |\n",
       "| Premium   | 13791 |\n",
       "| Ideal     | 21551 |\n",
       "\n"
      ],
      "text/plain": [
       "  cut       n    \n",
       "1 Fair       1610\n",
       "2 Good       4906\n",
       "3 Very Good 12082\n",
       "4 Premium   13791\n",
       "5 Ideal     21551"
      ]
     },
     "metadata": {},
     "output_type": "display_data"
    }
   ],
   "source": [
    "diamonds %>%\n",
    "    count(cut)"
   ]
  },
  {
   "cell_type": "code",
   "execution_count": 27,
   "id": "06115765",
   "metadata": {},
   "outputs": [
    {
     "data": {
      "image/png": "[encoded data removed]",
      "text/plain": [
       "plot without title"
      ]
     },
     "metadata": {
      "image/png": {
       "height": 420,
       "width": 420
      }
     },
     "output_type": "display_data"
    }
   ],
   "source": [
    "ggplot(data=diamonds) +\n",
    "    geom_histogram(mapping=aes(x=carat),binwidth=0.5)"
   ]
  },
  {
   "cell_type": "code",
   "execution_count": 31,
   "id": "a882a5d5",
   "metadata": {},
   "outputs": [
    {
     "data": {
      "text/html": [
       "<table class=\"dataframe\">\n",
       "<caption>A tibble: 11 × 2</caption>\n",
       "<thead>\n",
       "\t<tr><th scope=col>cut_width(carat, 0.5)</th><th scope=col>n</th></tr>\n",
       "\t<tr><th scope=col>&lt;fct&gt;</th><th scope=col>&lt;int&gt;</th></tr>\n",
       "</thead>\n",
       "<tbody>\n",
       "\t<tr><td>[-0.25,0.25]</td><td>  785</td></tr>\n",
       "\t<tr><td>(0.25,0.75] </td><td>29498</td></tr>\n",
       "\t<tr><td>(0.75,1.25] </td><td>15977</td></tr>\n",
       "\t<tr><td>(1.25,1.75] </td><td> 5313</td></tr>\n",
       "\t<tr><td>(1.75,2.25] </td><td> 2002</td></tr>\n",
       "\t<tr><td>(2.25,2.75] </td><td>  322</td></tr>\n",
       "\t<tr><td>(2.75,3.25] </td><td>   32</td></tr>\n",
       "\t<tr><td>(3.25,3.75] </td><td>    5</td></tr>\n",
       "\t<tr><td>(3.75,4.25] </td><td>    4</td></tr>\n",
       "\t<tr><td>(4.25,4.75] </td><td>    1</td></tr>\n",
       "\t<tr><td>(4.75,5.25] </td><td>    1</td></tr>\n",
       "</tbody>\n",
       "</table>\n"
      ],
      "text/latex": [
       "A tibble: 11 × 2\n",
       "\\begin{tabular}{ll}\n",
       " cut\\_width(carat, 0.5) & n\\\\\n",
       " <fct> & <int>\\\\\n",
       "\\hline\n",
       "\t {[}-0.25,0.25{]} &   785\\\\\n",
       "\t (0.25,0.75{]}  & 29498\\\\\n",
       "\t (0.75,1.25{]}  & 15977\\\\\n",
       "\t (1.25,1.75{]}  &  5313\\\\\n",
       "\t (1.75,2.25{]}  &  2002\\\\\n",
       "\t (2.25,2.75{]}  &   322\\\\\n",
       "\t (2.75,3.25{]}  &    32\\\\\n",
       "\t (3.25,3.75{]}  &     5\\\\\n",
       "\t (3.75,4.25{]}  &     4\\\\\n",
       "\t (4.25,4.75{]}  &     1\\\\\n",
       "\t (4.75,5.25{]}  &     1\\\\\n",
       "\\end{tabular}\n"
      ],
      "text/markdown": [
       "\n",
       "A tibble: 11 × 2\n",
       "\n",
       "| cut_width(carat, 0.5) &lt;fct&gt; | n &lt;int&gt; |\n",
       "|---|---|\n",
       "| [-0.25,0.25] |   785 |\n",
       "| (0.25,0.75]  | 29498 |\n",
       "| (0.75,1.25]  | 15977 |\n",
       "| (1.25,1.75]  |  5313 |\n",
       "| (1.75,2.25]  |  2002 |\n",
       "| (2.25,2.75]  |   322 |\n",
       "| (2.75,3.25]  |    32 |\n",
       "| (3.25,3.75]  |     5 |\n",
       "| (3.75,4.25]  |     4 |\n",
       "| (4.25,4.75]  |     1 |\n",
       "| (4.75,5.25]  |     1 |\n",
       "\n"
      ],
      "text/plain": [
       "   cut_width(carat, 0.5) n    \n",
       "1  [-0.25,0.25]            785\n",
       "2  (0.25,0.75]           29498\n",
       "3  (0.75,1.25]           15977\n",
       "4  (1.25,1.75]            5313\n",
       "5  (1.75,2.25]            2002\n",
       "6  (2.25,2.75]             322\n",
       "7  (2.75,3.25]              32\n",
       "8  (3.25,3.75]               5\n",
       "9  (3.75,4.25]               4\n",
       "10 (4.25,4.75]               1\n",
       "11 (4.75,5.25]               1"
      ]
     },
     "metadata": {},
     "output_type": "display_data"
    }
   ],
   "source": [
    "diamonds %>%\n",
    "    count(cut_width(carat,0.5))"
   ]
  },
  {
   "cell_type": "code",
   "execution_count": 29,
   "id": "989ef402",
   "metadata": {},
   "outputs": [
    {
     "data": {
      "text/plain": [
       "   Min. 1st Qu.  Median    Mean 3rd Qu.    Max. \n",
       " 0.2000  0.4000  0.7000  0.7979  1.0400  5.0100 "
      ]
     },
     "metadata": {},
     "output_type": "display_data"
    }
   ],
   "source": [
    "summary(diamonds$carat)"
   ]
  },
  {
   "cell_type": "markdown",
   "id": "fd0a1e2d",
   "metadata": {},
   "source": [
    "### Typical Values"
   ]
  },
  {
   "cell_type": "code",
   "execution_count": 38,
   "id": "236acc4c",
   "metadata": {},
   "outputs": [
    {
     "name": "stderr",
     "output_type": "stream",
     "text": [
      "Warning message:\n",
      "\"Ignoring unknown parameters: binwidht\"\n",
      "`stat_bin()` using `bins = 30`. Pick better value with `binwidth`.\n",
      "\n"
     ]
    },
    {
     "data": {
      "image/png": "[encoded data removed]",
      "text/plain": [
       "plot without title"
      ]
     },
     "metadata": {
      "image/png": {
       "height": 420,
       "width": 420
      }
     },
     "output_type": "display_data"
    }
   ],
   "source": [
    "smaller <- diamonds %>%\n",
    "    filter(carat < 3)\n",
    "\n",
    "ggplot(data=smaller) +\n",
    "    geom_histogram(mapping=aes(x=carat),binwidht=0.1)"
   ]
  },
  {
   "cell_type": "code",
   "execution_count": 43,
   "id": "0b9e3474",
   "metadata": {},
   "outputs": [
    {
     "name": "stderr",
     "output_type": "stream",
     "text": [
      "Warning message:\n",
      "\"Ignoring unknown parameters: binwidht\"\n",
      "`stat_bin()` using `bins = 30`. Pick better value with `binwidth`.\n",
      "\n"
     ]
    },
    {
     "data": {
      "image/png": "[encoded data removed]",
      "text/plain": [
       "plot without title"
      ]
     },
     "metadata": {
      "image/png": {
       "height": 420,
       "width": 420
      }
     },
     "output_type": "display_data"
    }
   ],
   "source": [
    "ggplot(data=smaller,mapping=aes(x=carat,color=cut)) +\n",
    "    geom_freqpoly(binwidht=0.1,size=0.9)"
   ]
  },
  {
   "cell_type": "code",
   "execution_count": 54,
   "id": "60a86ebf",
   "metadata": {},
   "outputs": [
    {
     "data": {
      "image/png": "[encoded data removed]",
      "text/plain": [
       "plot without title"
      ]
     },
     "metadata": {
      "image/png": {
       "height": 420,
       "width": 420
      }
     },
     "output_type": "display_data"
    }
   ],
   "source": [
    "ggplot(data=smaller,mapping=aes(x=carat)) +\n",
    "    geom_histogram(binwidth=0.01)"
   ]
  },
  {
   "cell_type": "markdown",
   "id": "f2076415",
   "metadata": {},
   "source": [
    "* Cart distrbution is multimodal and right skewed.\n",
    "* The histogram above suggests some interesting questions:\n",
    "    - Why there are more diamonds at whole and common fractions of carats? (eg: 1-2-1.5-0.2)\n",
    "    - Why are there more diamonds slightly to the right of each peak than there are to the left of each peak?\n",
    "    - Why are there no diamonds bigger than 3 carats?\n",
    "    \n",
    "    \n",
    "* Clusters of similar values suggest that subgroups exist in the data.\n",
    "    - How are the observations within each cluster similar to each other?\n",
    "    - How are the observations in seperate cluster different from each other?\n",
    "    - How can you explain or describe the clusters?\n",
    "    - Why might the appearance of cluster be misleading?"
   ]
  },
  {
   "cell_type": "code",
   "execution_count": 55,
   "id": "9d0305ae",
   "metadata": {},
   "outputs": [
    {
     "data": {
      "image/png": "[encoded data removed]",
      "text/plain": [
       "plot without title"
      ]
     },
     "metadata": {
      "image/png": {
       "height": 420,
       "width": 420
      }
     },
     "output_type": "display_data"
    }
   ],
   "source": [
    "ggplot(data=faithful, mapping=aes(x=eruptions)) +\n",
    "    geom_histogram(binwidth=0.25)"
   ]
  },
  {
   "cell_type": "markdown",
   "id": "32fd50d6",
   "metadata": {},
   "source": [
    "We can see that erruption times are clustering into 2 subcategories, short erruptions (around 2 minutes) and long time erruptions (4~5 minutes), how can we explain this behavior? is there another variable that can explain the variation in eruption times?"
   ]
  },
  {
   "cell_type": "markdown",
   "id": "2e46f82c",
   "metadata": {},
   "source": [
    "### Unusual values\n",
    "\n",
    "AKA: outliers or as i like to call them outliaaaaars."
   ]
  },
  {
   "cell_type": "code",
   "execution_count": 56,
   "id": "b2feff27",
   "metadata": {},
   "outputs": [
    {
     "data": {
      "text/html": [
       "<table class=\"dataframe\">\n",
       "<caption>A tibble: 6 × 10</caption>\n",
       "<thead>\n",
       "\t<tr><th scope=col>carat</th><th scope=col>cut</th><th scope=col>color</th><th scope=col>clarity</th><th scope=col>depth</th><th scope=col>table</th><th scope=col>price</th><th scope=col>x</th><th scope=col>y</th><th scope=col>z</th></tr>\n",
       "\t<tr><th scope=col>&lt;dbl&gt;</th><th scope=col>&lt;ord&gt;</th><th scope=col>&lt;ord&gt;</th><th scope=col>&lt;ord&gt;</th><th scope=col>&lt;dbl&gt;</th><th scope=col>&lt;dbl&gt;</th><th scope=col>&lt;int&gt;</th><th scope=col>&lt;dbl&gt;</th><th scope=col>&lt;dbl&gt;</th><th scope=col>&lt;dbl&gt;</th></tr>\n",
       "</thead>\n",
       "<tbody>\n",
       "\t<tr><td>0.23</td><td>Ideal    </td><td>E</td><td>SI2 </td><td>61.5</td><td>55</td><td>326</td><td>3.95</td><td>3.98</td><td>2.43</td></tr>\n",
       "\t<tr><td>0.21</td><td>Premium  </td><td>E</td><td>SI1 </td><td>59.8</td><td>61</td><td>326</td><td>3.89</td><td>3.84</td><td>2.31</td></tr>\n",
       "\t<tr><td>0.23</td><td>Good     </td><td>E</td><td>VS1 </td><td>56.9</td><td>65</td><td>327</td><td>4.05</td><td>4.07</td><td>2.31</td></tr>\n",
       "\t<tr><td>0.29</td><td>Premium  </td><td>I</td><td>VS2 </td><td>62.4</td><td>58</td><td>334</td><td>4.20</td><td>4.23</td><td>2.63</td></tr>\n",
       "\t<tr><td>0.31</td><td>Good     </td><td>J</td><td>SI2 </td><td>63.3</td><td>58</td><td>335</td><td>4.34</td><td>4.35</td><td>2.75</td></tr>\n",
       "\t<tr><td>0.24</td><td>Very Good</td><td>J</td><td>VVS2</td><td>62.8</td><td>57</td><td>336</td><td>3.94</td><td>3.96</td><td>2.48</td></tr>\n",
       "</tbody>\n",
       "</table>\n"
      ],
      "text/latex": [
       "A tibble: 6 × 10\n",
       "\\begin{tabular}{llllllllll}\n",
       " carat & cut & color & clarity & depth & table & price & x & y & z\\\\\n",
       " <dbl> & <ord> & <ord> & <ord> & <dbl> & <dbl> & <int> & <dbl> & <dbl> & <dbl>\\\\\n",
       "\\hline\n",
       "\t 0.23 & Ideal     & E & SI2  & 61.5 & 55 & 326 & 3.95 & 3.98 & 2.43\\\\\n",
       "\t 0.21 & Premium   & E & SI1  & 59.8 & 61 & 326 & 3.89 & 3.84 & 2.31\\\\\n",
       "\t 0.23 & Good      & E & VS1  & 56.9 & 65 & 327 & 4.05 & 4.07 & 2.31\\\\\n",
       "\t 0.29 & Premium   & I & VS2  & 62.4 & 58 & 334 & 4.20 & 4.23 & 2.63\\\\\n",
       "\t 0.31 & Good      & J & SI2  & 63.3 & 58 & 335 & 4.34 & 4.35 & 2.75\\\\\n",
       "\t 0.24 & Very Good & J & VVS2 & 62.8 & 57 & 336 & 3.94 & 3.96 & 2.48\\\\\n",
       "\\end{tabular}\n"
      ],
      "text/markdown": [
       "\n",
       "A tibble: 6 × 10\n",
       "\n",
       "| carat &lt;dbl&gt; | cut &lt;ord&gt; | color &lt;ord&gt; | clarity &lt;ord&gt; | depth &lt;dbl&gt; | table &lt;dbl&gt; | price &lt;int&gt; | x &lt;dbl&gt; | y &lt;dbl&gt; | z &lt;dbl&gt; |\n",
       "|---|---|---|---|---|---|---|---|---|---|\n",
       "| 0.23 | Ideal     | E | SI2  | 61.5 | 55 | 326 | 3.95 | 3.98 | 2.43 |\n",
       "| 0.21 | Premium   | E | SI1  | 59.8 | 61 | 326 | 3.89 | 3.84 | 2.31 |\n",
       "| 0.23 | Good      | E | VS1  | 56.9 | 65 | 327 | 4.05 | 4.07 | 2.31 |\n",
       "| 0.29 | Premium   | I | VS2  | 62.4 | 58 | 334 | 4.20 | 4.23 | 2.63 |\n",
       "| 0.31 | Good      | J | SI2  | 63.3 | 58 | 335 | 4.34 | 4.35 | 2.75 |\n",
       "| 0.24 | Very Good | J | VVS2 | 62.8 | 57 | 336 | 3.94 | 3.96 | 2.48 |\n",
       "\n"
      ],
      "text/plain": [
       "  carat cut       color clarity depth table price x    y    z   \n",
       "1 0.23  Ideal     E     SI2     61.5  55    326   3.95 3.98 2.43\n",
       "2 0.21  Premium   E     SI1     59.8  61    326   3.89 3.84 2.31\n",
       "3 0.23  Good      E     VS1     56.9  65    327   4.05 4.07 2.31\n",
       "4 0.29  Premium   I     VS2     62.4  58    334   4.20 4.23 2.63\n",
       "5 0.31  Good      J     SI2     63.3  58    335   4.34 4.35 2.75\n",
       "6 0.24  Very Good J     VVS2    62.8  57    336   3.94 3.96 2.48"
      ]
     },
     "metadata": {},
     "output_type": "display_data"
    }
   ],
   "source": [
    "head(diamonds)"
   ]
  },
  {
   "cell_type": "code",
   "execution_count": 58,
   "id": "67fc5e39",
   "metadata": {},
   "outputs": [
    {
     "data": {
      "image/png": "[encoded data removed]",
      "text/plain": [
       "plot without title"
      ]
     },
     "metadata": {
      "image/png": {
       "height": 420,
       "width": 420
      }
     },
     "output_type": "display_data"
    }
   ],
   "source": [
    "ggplot(data=diamonds,mapping=aes(x=y)) +\n",
    "    geom_histogram(binwidth=0.5)"
   ]
  },
  {
   "cell_type": "markdown",
   "id": "509fcd68",
   "metadata": {},
   "source": [
    "Because there is so much data, you can't really see the outliers, the only evidence we have for now is the unusual wide limit in the x-axis.\n",
    "\n",
    "\n",
    "To see our outliers we need to zoom in (AKA: reducing the y-lim in the y-axis) to see the outliers."
   ]
  },
  {
   "cell_type": "code",
   "execution_count": 60,
   "id": "b016420c",
   "metadata": {},
   "outputs": [
    {
     "data": {
      "image/png": "[encoded data removed]",
      "text/plain": [
       "plot without title"
      ]
     },
     "metadata": {
      "image/png": {
       "height": 420,
       "width": 420
      }
     },
     "output_type": "display_data"
    }
   ],
   "source": [
    "ggplot(data=diamonds,mapping=aes(x=y)) +\n",
    "    geom_histogram(binwidth=0.5) +\n",
    "    coord_cartesian(ylim=c(0,30))"
   ]
  },
  {
   "cell_type": "markdown",
   "id": "59fbbe00",
   "metadata": {},
   "source": [
    "We can see now the unusual values in our data, 0, ~30, ~60.\n",
    "\n",
    "We can pluck (extract) these values using dplyr"
   ]
  },
  {
   "cell_type": "code",
   "execution_count": 62,
   "id": "d0517217",
   "metadata": {},
   "outputs": [
    {
     "data": {
      "text/html": [
       "<table class=\"dataframe\">\n",
       "<caption>A tibble: 9 × 4</caption>\n",
       "<thead>\n",
       "\t<tr><th scope=col>price</th><th scope=col>x</th><th scope=col>y</th><th scope=col>z</th></tr>\n",
       "\t<tr><th scope=col>&lt;int&gt;</th><th scope=col>&lt;dbl&gt;</th><th scope=col>&lt;dbl&gt;</th><th scope=col>&lt;dbl&gt;</th></tr>\n",
       "</thead>\n",
       "<tbody>\n",
       "\t<tr><td> 5139</td><td>0.00</td><td> 0.0</td><td>0.00</td></tr>\n",
       "\t<tr><td> 6381</td><td>0.00</td><td> 0.0</td><td>0.00</td></tr>\n",
       "\t<tr><td>12800</td><td>0.00</td><td> 0.0</td><td>0.00</td></tr>\n",
       "\t<tr><td>15686</td><td>0.00</td><td> 0.0</td><td>0.00</td></tr>\n",
       "\t<tr><td>18034</td><td>0.00</td><td> 0.0</td><td>0.00</td></tr>\n",
       "\t<tr><td> 2130</td><td>0.00</td><td> 0.0</td><td>0.00</td></tr>\n",
       "\t<tr><td> 2130</td><td>0.00</td><td> 0.0</td><td>0.00</td></tr>\n",
       "\t<tr><td> 2075</td><td>5.15</td><td>31.8</td><td>5.12</td></tr>\n",
       "\t<tr><td>12210</td><td>8.09</td><td>58.9</td><td>8.06</td></tr>\n",
       "</tbody>\n",
       "</table>\n"
      ],
      "text/latex": [
       "A tibble: 9 × 4\n",
       "\\begin{tabular}{llll}\n",
       " price & x & y & z\\\\\n",
       " <int> & <dbl> & <dbl> & <dbl>\\\\\n",
       "\\hline\n",
       "\t  5139 & 0.00 &  0.0 & 0.00\\\\\n",
       "\t  6381 & 0.00 &  0.0 & 0.00\\\\\n",
       "\t 12800 & 0.00 &  0.0 & 0.00\\\\\n",
       "\t 15686 & 0.00 &  0.0 & 0.00\\\\\n",
       "\t 18034 & 0.00 &  0.0 & 0.00\\\\\n",
       "\t  2130 & 0.00 &  0.0 & 0.00\\\\\n",
       "\t  2130 & 0.00 &  0.0 & 0.00\\\\\n",
       "\t  2075 & 5.15 & 31.8 & 5.12\\\\\n",
       "\t 12210 & 8.09 & 58.9 & 8.06\\\\\n",
       "\\end{tabular}\n"
      ],
      "text/markdown": [
       "\n",
       "A tibble: 9 × 4\n",
       "\n",
       "| price &lt;int&gt; | x &lt;dbl&gt; | y &lt;dbl&gt; | z &lt;dbl&gt; |\n",
       "|---|---|---|---|\n",
       "|  5139 | 0.00 |  0.0 | 0.00 |\n",
       "|  6381 | 0.00 |  0.0 | 0.00 |\n",
       "| 12800 | 0.00 |  0.0 | 0.00 |\n",
       "| 15686 | 0.00 |  0.0 | 0.00 |\n",
       "| 18034 | 0.00 |  0.0 | 0.00 |\n",
       "|  2130 | 0.00 |  0.0 | 0.00 |\n",
       "|  2130 | 0.00 |  0.0 | 0.00 |\n",
       "|  2075 | 5.15 | 31.8 | 5.12 |\n",
       "| 12210 | 8.09 | 58.9 | 8.06 |\n",
       "\n"
      ],
      "text/plain": [
       "  price x    y    z   \n",
       "1  5139 0.00  0.0 0.00\n",
       "2  6381 0.00  0.0 0.00\n",
       "3 12800 0.00  0.0 0.00\n",
       "4 15686 0.00  0.0 0.00\n",
       "5 18034 0.00  0.0 0.00\n",
       "6  2130 0.00  0.0 0.00\n",
       "7  2130 0.00  0.0 0.00\n",
       "8  2075 5.15 31.8 5.12\n",
       "9 12210 8.09 58.9 8.06"
      ]
     },
     "metadata": {},
     "output_type": "display_data"
    }
   ],
   "source": [
    "unusual <- diamonds %>%\n",
    "    filter(y < 3 | y > 20) %>%\n",
    "    select(price,x,y,z) %>%\n",
    "    arrange(y)\n",
    "\n",
    "unusual"
   ]
  },
  {
   "cell_type": "markdown",
   "id": "4ef46332",
   "metadata": {},
   "source": [
    "We can tell right away that 7 out of these 9 values are incorrect.\n",
    "\n",
    "\n",
    "We can also suspect that 32mm and 59mm are implausible, what kind of diamond that has a width of 32~59 without costing hundreds of dollars?!"
   ]
  },
  {
   "cell_type": "markdown",
   "id": "c49e3388",
   "metadata": {},
   "source": [
    "#### Exercices and more EDA"
   ]
  },
  {
   "cell_type": "code",
   "execution_count": 65,
   "id": "af292e1a",
   "metadata": {},
   "outputs": [],
   "source": [
    "mesure <- diamonds %>%\n",
    "    select(price,x,y,z)"
   ]
  },
  {
   "cell_type": "code",
   "execution_count": 66,
   "id": "4ffd23fc",
   "metadata": {},
   "outputs": [
    {
     "data": {
      "image/png": "[encoded data removed]",
      "text/plain": [
       "plot without title"
      ]
     },
     "metadata": {
      "image/png": {
       "height": 420,
       "width": 420
      }
     },
     "output_type": "display_data"
    }
   ],
   "source": [
    "ggplot(data=mesure,mapping=aes(x=x)) +\n",
    "    geom_histogram(binwidth=0.01)"
   ]
  },
  {
   "cell_type": "code",
   "execution_count": 73,
   "id": "958484f7",
   "metadata": {},
   "outputs": [
    {
     "data": {
      "image/png": "[encoded data removed]",
      "text/plain": [
       "plot without title"
      ]
     },
     "metadata": {
      "image/png": {
       "height": 420,
       "width": 420
      }
     },
     "output_type": "display_data"
    }
   ],
   "source": [
    "ggplot(data=mesure,mapping=aes(x=z)) +\n",
    "    geom_histogram(binwidth=0.01)"
   ]
  },
  {
   "cell_type": "code",
   "execution_count": 84,
   "id": "a77f4094",
   "metadata": {},
   "outputs": [
    {
     "data": {
      "text/html": [
       "<style>\n",
       ".list-inline {list-style: none; margin:0; padding: 0}\n",
       ".list-inline>li {display: inline-block}\n",
       ".list-inline>li:not(:last-child)::after {content: \"\\00b7\"; padding: 0 .5ex}\n",
       "</style>\n",
       "<ol class=list-inline><li>0</li><li>4</li></ol>\n"
      ],
      "text/latex": [
       "\\begin{enumerate*}\n",
       "\\item 0\n",
       "\\item 4\n",
       "\\end{enumerate*}\n"
      ],
      "text/markdown": [
       "1. 0\n",
       "2. 4\n",
       "\n",
       "\n"
      ],
      "text/plain": [
       "[1] 0 4"
      ]
     },
     "metadata": {},
     "output_type": "display_data"
    }
   ],
   "source": [
    "typical <- mesure %>%\n",
    "    filter(between(x,4,9),between(y,50,10),between(z,3,6))\n",
    "\n",
    "dim(typical)"
   ]
  },
  {
   "cell_type": "code",
   "execution_count": 86,
   "id": "01b1fb08",
   "metadata": {},
   "outputs": [
    {
     "data": {
      "image/png": "[encoded data removed]",
      "text/plain": [
       "plot without title"
      ]
     },
     "metadata": {
      "image/png": {
       "height": 420,
       "width": 420
      }
     },
     "output_type": "display_data"
    }
   ],
   "source": [
    "ggplot(data=mesure,mapping=aes(x=price)) +\n",
    "    geom_histogram(binwidth=100)"
   ]
  },
  {
   "cell_type": "code",
   "execution_count": 100,
   "id": "6b0053c8",
   "metadata": {},
   "outputs": [
    {
     "data": {
      "image/png": "[encoded data removed]",
      "text/plain": [
       "plot without title"
      ]
     },
     "metadata": {
      "image/png": {
       "height": 420,
       "width": 420
      }
     },
     "output_type": "display_data"
    }
   ],
   "source": [
    "ggplot(data=mesure,mapping=aes(x=log(price))) +\n",
    "    geom_histogram(binwidth=0.05)"
   ]
  },
  {
   "cell_type": "code",
   "execution_count": 110,
   "id": "884f54dd",
   "metadata": {},
   "outputs": [
    {
     "data": {
      "text/html": [
       "<table class=\"dataframe\">\n",
       "<caption>A tibble: 1 × 2</caption>\n",
       "<thead>\n",
       "\t<tr><th scope=col>carat</th><th scope=col>n</th></tr>\n",
       "\t<tr><th scope=col>&lt;dbl&gt;</th><th scope=col>&lt;int&gt;</th></tr>\n",
       "</thead>\n",
       "<tbody>\n",
       "\t<tr><td>0.99</td><td>23</td></tr>\n",
       "</tbody>\n",
       "</table>\n"
      ],
      "text/latex": [
       "A tibble: 1 × 2\n",
       "\\begin{tabular}{ll}\n",
       " carat & n\\\\\n",
       " <dbl> & <int>\\\\\n",
       "\\hline\n",
       "\t 0.99 & 23\\\\\n",
       "\\end{tabular}\n"
      ],
      "text/markdown": [
       "\n",
       "A tibble: 1 × 2\n",
       "\n",
       "| carat &lt;dbl&gt; | n &lt;int&gt; |\n",
       "|---|---|\n",
       "| 0.99 | 23 |\n",
       "\n"
      ],
      "text/plain": [
       "  carat n \n",
       "1 0.99  23"
      ]
     },
     "metadata": {},
     "output_type": "display_data"
    }
   ],
   "source": [
    "diamonds %>%\n",
    "    filter(carat==0.99) %>% count(carat)"
   ]
  },
  {
   "cell_type": "code",
   "execution_count": 111,
   "id": "c6b22269",
   "metadata": {},
   "outputs": [
    {
     "data": {
      "text/html": [
       "<table class=\"dataframe\">\n",
       "<caption>A tibble: 1 × 2</caption>\n",
       "<thead>\n",
       "\t<tr><th scope=col>carat</th><th scope=col>n</th></tr>\n",
       "\t<tr><th scope=col>&lt;dbl&gt;</th><th scope=col>&lt;int&gt;</th></tr>\n",
       "</thead>\n",
       "<tbody>\n",
       "\t<tr><td>1</td><td>1558</td></tr>\n",
       "</tbody>\n",
       "</table>\n"
      ],
      "text/latex": [
       "A tibble: 1 × 2\n",
       "\\begin{tabular}{ll}\n",
       " carat & n\\\\\n",
       " <dbl> & <int>\\\\\n",
       "\\hline\n",
       "\t 1 & 1558\\\\\n",
       "\\end{tabular}\n"
      ],
      "text/markdown": [
       "\n",
       "A tibble: 1 × 2\n",
       "\n",
       "| carat &lt;dbl&gt; | n &lt;int&gt; |\n",
       "|---|---|\n",
       "| 1 | 1558 |\n",
       "\n"
      ],
      "text/plain": [
       "  carat n   \n",
       "1 1     1558"
      ]
     },
     "metadata": {},
     "output_type": "display_data"
    }
   ],
   "source": [
    "diamonds %>% filter(carat==1) %>% count(carat)"
   ]
  },
  {
   "cell_type": "code",
   "execution_count": 112,
   "id": "902202b2",
   "metadata": {},
   "outputs": [
    {
     "data": {
      "image/png": "[encoded data removed]",
      "text/plain": [
       "plot without title"
      ]
     },
     "metadata": {
      "image/png": {
       "height": 420,
       "width": 420
      }
     },
     "output_type": "display_data"
    }
   ],
   "source": [
    "ggplot(data=mpg) +\n",
    "    geom_boxplot(mapping=aes(x=reorder(class,hwy,FUN=median),y=hwy))"
   ]
  },
  {
   "cell_type": "code",
   "execution_count": 114,
   "id": "17f90a62",
   "metadata": {},
   "outputs": [
    {
     "data": {
      "image/png": "[encoded data removed]",
      "text/plain": [
       "plot without title"
      ]
     },
     "metadata": {
      "image/png": {
       "height": 420,
       "width": 420
      }
     },
     "output_type": "display_data"
    }
   ],
   "source": [
    "ggplot(data=mpg) +\n",
    "    geom_boxplot(mapping=aes(x=reorder(class,hwy,FUN=IQR),y=hwy)) +\n",
    "    coord_flip()"
   ]
  },
  {
   "cell_type": "code",
   "execution_count": null,
   "id": "1df4bad9",
   "metadata": {},
   "outputs": [],
   "source": []
  }
 ],
 "metadata": {
  "kernelspec": {
   "display_name": "R",
   "language": "R",
   "name": "ir"
  },
  "language_info": {
   "codemirror_mode": "r",
   "file_extension": ".r",
   "mimetype": "text/x-r-source",
   "name": "R",
   "pygments_lexer": "r",
   "version": "4.1.1"
  }
 },
 "nbformat": 4,
 "nbformat_minor": 5
}
